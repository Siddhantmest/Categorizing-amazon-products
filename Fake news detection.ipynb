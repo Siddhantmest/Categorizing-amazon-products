{
 "cells": [
  {
   "cell_type": "markdown",
   "metadata": {},
   "source": [
    "## Importing Libraries"
   ]
  },
  {
   "cell_type": "code",
   "execution_count": 1,
   "metadata": {
    "scrolled": true
   },
   "outputs": [
    {
     "name": "stderr",
     "output_type": "stream",
     "text": [
      "[nltk_data] Downloading package stopwords to\n",
      "[nltk_data]     C:\\Users\\siddh\\AppData\\Roaming\\nltk_data...\n",
      "[nltk_data]   Package stopwords is already up-to-date!\n",
      "[nltk_data] Downloading package punkt to\n",
      "[nltk_data]     C:\\Users\\siddh\\AppData\\Roaming\\nltk_data...\n",
      "[nltk_data]   Package punkt is already up-to-date!\n"
     ]
    }
   ],
   "source": [
    "import pandas as pd\n",
    "import numpy as np\n",
    "import matplotlib.pyplot as plt\n",
    "import seaborn as sns\n",
    "import time\n",
    "\n",
    "# For cleaning and processing\n",
    "import json\n",
    "import os, re\n",
    "from random import randint\n",
    "from pathlib import Path\n",
    "from sklearn.feature_extraction.text import TfidfVectorizer\n",
    "from nltk import sent_tokenize\n",
    "import nltk\n",
    "import string\n",
    "from nltk.corpus import stopwords\n",
    "from nltk.stem import SnowballStemmer\n",
    "nltk.download('stopwords')\n",
    "nltk.download('punkt')\n",
    "\n",
    "# For Modeling and Computing Accuracy\n",
    "from sklearn.ensemble import RandomForestClassifier\n",
    "from sklearn.linear_model import LogisticRegression\n",
    "from sklearn.metrics import accuracy_score, classification_report, confusion_matrix\n",
    "from sklearn.metrics.pairwise import cosine_similarity\n",
    "# !pip install xgboost\n",
    "import xgboost\n",
    "from xgboost import XGBClassifier\n",
    "from sklearn.model_selection import train_test_split\n",
    "from sklearn.svm import LinearSVC\n",
    "from sklearn.feature_selection import SelectPercentile, f_classif\n",
    "from scipy.sparse import hstack"
   ]
  },
  {
   "cell_type": "markdown",
   "metadata": {},
   "source": [
    "## Importing the Data"
   ]
  },
  {
   "cell_type": "code",
   "execution_count": 2,
   "metadata": {
    "scrolled": true
   },
   "outputs": [
    {
     "name": "stdout",
     "output_type": "stream",
     "text": [
      "Claim: A line from George Orwell's novel 1984 predicts the power of smartphones.\n",
      "Speaker: \n",
      "Date: 2017-07-17\n",
      "Related Article Ids: [122094, 122580, 130685, 134765]\n",
      "First evidence article id: 122094\n",
      "1984: George Orwell predicted 2017 almost 70 years ago\n",
      "April, 1984. 13:00. Comrade 6079, Winston Smith, thinks a thought, starts a diary, and falls in love. But Big Brother is always watching. Set in a world where an invasive government keeps a malevolently watchful eye on its citizens, this radical and much-lauded staging explores surveillance, identity and why Orwell?s vision of the future is as relevant now as ever. Now with a brand new Australian cast, we bring adapter-directors Robert Icke and Duncan Macmillan?s thrilling vision back to Australia for a national tour.\n",
      "\n",
      "THERE was no crystal ball, no religious apparitions or voices from the dead when George Orwell wrote Nineteen Eighty-Four, accurately depicted our present almost 70 years ago.\n",
      "\n",
      "It’s no coincidence that Orwell’s 1949 novel had climbed back into multiple bestseller lists this year — people have realised its scarily accurate foretelling.\n",
      "\n",
      "In 2013 its relevance — still strong and worryingly reliable — led to the West End smash hit adaptation of the book, which is currently showing in Australia.\n",
      "\n",
      "The book is one of the greatest dystopian novels every written. It looks at a future where people are controlled into what to think, how to act and how to live by the Government known as Big Brother. It uses telescreens, fearmongering, media control and corruption to control the masses. The main protagonist is the initially apathetic Winston who craves something more than the controlled world he inhabits.\n",
      "\n",
      "Corey McMahon, the associate director of the 1984 production in Australia, said the book’s reach and resonance will always continue as it speaks to more than a literary audience.\n",
      "\n",
      "“It speaks to a world filled with unpopular policies and world leaders,” McMahon said.\n",
      "\n",
      "The production takes a deeper look into some of the core themes of the novel such as governmental surveillance through the subconscious co-operation of the public through their screens. You are reading this very line on one of your ‘screens’.\n",
      "\n",
      "McMahon said the production looks to act as a sort of catalyst for its audiences to look at the world in a different light. To question what is true and what isn’t, to look beyond the political spin.\n",
      "\n",
      "“We are so busy Facebooking, Snapchatting, Tweeting etc that we are missing what is happening in the world,” he said.\n",
      "\n",
      "He pointed to a quote from the production he said not only sticks out to him every time, but one that he think will challenge audiences to really think about the world they inhabit and how they chose to be a part of it.\n",
      "\n",
      "The line is from one of the characters that works for the Government, otherwise known as Big Brother. He says: “The people will not revolt. They will not look up from their screens long enough to notice what’s happening.”\n",
      "\n",
      "Orwell didn’t have a crystal ball, what he did have was an understanding of the human condition and its weakness. Apathy.\n",
      "\n",
      "1984 is holding shows across Australia. You can purchase tickets here.\n"
     ]
    }
   ],
   "source": [
    "# These are the file paths from where the dataset will be accesses\n",
    "METADATA_FILEPATH = Path('C:/train.json')  # To change with your filepath\n",
    "ARTICLES_FILEPATH = Path('C:/train_articles')  # To change with your filepath\n",
    "\n",
    "# Read in the metadata file.\n",
    "with open(METADATA_FILEPATH, 'r') as f:\n",
    "    claims = json.load(f)\n",
    "\n",
    "# Inspect the first claim.\n",
    "claim = claims[0]\n",
    "print('Claim:', claim['claim'])\n",
    "print('Speaker:', claim['claimant'])\n",
    "print('Date:', claim['date'])\n",
    "print('Related Article Ids:', claim['related_articles'])\n",
    "\n",
    "# Print the first evidence article.\n",
    "idx = claim['related_articles'][0]\n",
    "print('First evidence article id:', idx)\n",
    "with open(os.path.join(ARTICLES_FILEPATH, '%d.txt' % idx), 'r', encoding=\"utf8\") as f:\n",
    "    print(f.read())"
   ]
  },
  {
   "cell_type": "markdown",
   "metadata": {},
   "source": [
    "Saving the claims.json as pandas dataframe"
   ]
  },
  {
   "cell_type": "code",
   "execution_count": 3,
   "metadata": {},
   "outputs": [
    {
     "data": {
      "text/html": [
       "<div>\n",
       "<style scoped>\n",
       "    .dataframe tbody tr th:only-of-type {\n",
       "        vertical-align: middle;\n",
       "    }\n",
       "\n",
       "    .dataframe tbody tr th {\n",
       "        vertical-align: top;\n",
       "    }\n",
       "\n",
       "    .dataframe thead th {\n",
       "        text-align: right;\n",
       "    }\n",
       "</style>\n",
       "<table border=\"1\" class=\"dataframe\">\n",
       "  <thead>\n",
       "    <tr style=\"text-align: right;\">\n",
       "      <th></th>\n",
       "      <th>claim</th>\n",
       "      <th>claimant</th>\n",
       "      <th>date</th>\n",
       "      <th>label</th>\n",
       "      <th>related_articles</th>\n",
       "      <th>id</th>\n",
       "    </tr>\n",
       "  </thead>\n",
       "  <tbody>\n",
       "    <tr>\n",
       "      <th>0</th>\n",
       "      <td>A line from George Orwell's novel 1984 predict...</td>\n",
       "      <td></td>\n",
       "      <td>2017-07-17</td>\n",
       "      <td>0</td>\n",
       "      <td>[122094, 122580, 130685, 134765]</td>\n",
       "      <td>0</td>\n",
       "    </tr>\n",
       "    <tr>\n",
       "      <th>1</th>\n",
       "      <td>Maine legislature candidate Leslie Gibson insu...</td>\n",
       "      <td></td>\n",
       "      <td>2018-03-17</td>\n",
       "      <td>2</td>\n",
       "      <td>[106868, 127320, 128060]</td>\n",
       "      <td>1</td>\n",
       "    </tr>\n",
       "    <tr>\n",
       "      <th>2</th>\n",
       "      <td>A 17-year-old girl named Alyssa Carson is bein...</td>\n",
       "      <td></td>\n",
       "      <td>2018-07-18</td>\n",
       "      <td>1</td>\n",
       "      <td>[132130, 132132, 149722]</td>\n",
       "      <td>4</td>\n",
       "    </tr>\n",
       "    <tr>\n",
       "      <th>3</th>\n",
       "      <td>In 1988 author Roald Dahl penned an open lette...</td>\n",
       "      <td></td>\n",
       "      <td>2019-02-04</td>\n",
       "      <td>2</td>\n",
       "      <td>[123254, 123418, 127464]</td>\n",
       "      <td>5</td>\n",
       "    </tr>\n",
       "    <tr>\n",
       "      <th>4</th>\n",
       "      <td>When it comes to fighting terrorism, \"Another ...</td>\n",
       "      <td>Hillary Clinton</td>\n",
       "      <td>2016-03-22</td>\n",
       "      <td>2</td>\n",
       "      <td>[41099, 89899, 72543, 82644, 95344, 88361]</td>\n",
       "      <td>6</td>\n",
       "    </tr>\n",
       "  </tbody>\n",
       "</table>\n",
       "</div>"
      ],
      "text/plain": [
       "                                               claim         claimant  \\\n",
       "0  A line from George Orwell's novel 1984 predict...                    \n",
       "1  Maine legislature candidate Leslie Gibson insu...                    \n",
       "2  A 17-year-old girl named Alyssa Carson is bein...                    \n",
       "3  In 1988 author Roald Dahl penned an open lette...                    \n",
       "4  When it comes to fighting terrorism, \"Another ...  Hillary Clinton   \n",
       "\n",
       "         date  label                            related_articles  id  \n",
       "0  2017-07-17      0            [122094, 122580, 130685, 134765]   0  \n",
       "1  2018-03-17      2                    [106868, 127320, 128060]   1  \n",
       "2  2018-07-18      1                    [132130, 132132, 149722]   4  \n",
       "3  2019-02-04      2                    [123254, 123418, 127464]   5  \n",
       "4  2016-03-22      2  [41099, 89899, 72543, 82644, 95344, 88361]   6  "
      ]
     },
     "execution_count": 3,
     "metadata": {},
     "output_type": "execute_result"
    }
   ],
   "source": [
    "#Claims as a dataframe\n",
    "claims_pd=pd.DataFrame(claims)\n",
    "#Create a copy of claims dataframe\n",
    "claims = claims_pd.copy(deep = True)\n",
    "# Let's take a look at the dataset\n",
    "claims_pd.head()"
   ]
  },
  {
   "cell_type": "markdown",
   "metadata": {},
   "source": [
    "**The set of numbers in 'related_articles' column denote the respective related articles for a particular claim**"
   ]
  },
  {
   "cell_type": "markdown",
   "metadata": {},
   "source": [
    "## Data Exploration"
   ]
  },
  {
   "cell_type": "code",
   "execution_count": 4,
   "metadata": {},
   "outputs": [
    {
     "data": {
      "text/plain": [
       "0    7408\n",
       "1    6451\n",
       "2    1696\n",
       "Name: label, dtype: int64"
      ]
     },
     "execution_count": 4,
     "metadata": {},
     "output_type": "execute_result"
    }
   ],
   "source": [
    "#Counting the frequency of unique values in the label column\n",
    "claims_pd['label'].value_counts()"
   ]
  },
  {
   "cell_type": "code",
   "execution_count": 5,
   "metadata": {},
   "outputs": [
    {
     "data": {
      "image/png": "[encoded data removed]",
      "text/plain": [
       "<Figure size 720x504 with 1 Axes>"
      ]
     },
     "metadata": {},
     "output_type": "display_data"
    }
   ],
   "source": [
    "#Plotting a Pie chart for the no. of False, Partly True and True labels\n",
    "labels = 'False', 'Partly True', 'True'\n",
    "sizes = [x for x in claims_pd['label'].value_counts()]\n",
    "\n",
    "plt.figure(figsize=(10,7))\n",
    "plt.pie(sizes, labels=labels, autopct='%1.1f%%', textprops={'fontsize': 15})\n",
    "\n",
    "plt.show()"
   ]
  },
  {
   "cell_type": "markdown",
   "metadata": {},
   "source": [
    "**The pie chart represents how varied the portion of false, partly true and true claims in the dataset is. We can observe that there is only 11% of true claims while there is about 48% of false claims**\n",
    "\n",
    "**Let's explore further**"
   ]
  },
  {
   "cell_type": "code",
   "execution_count": 6,
   "metadata": {
    "scrolled": true
   },
   "outputs": [
    {
     "data": {
      "text/plain": [
       "Donald Trump       1233\n",
       "Bloggers            372\n",
       "Barack Obama        234\n",
       "Hillary Clinton     220\n",
       "Viral image         127\n",
       "Name: claimant, dtype: int64"
      ]
     },
     "execution_count": 6,
     "metadata": {},
     "output_type": "execute_result"
    }
   ],
   "source": [
    "#Counting the frequency of unique values in the claimant column\n",
    "claims_pd['claimant'].value_counts()[1:6] #1st entry is omitted because it is null "
   ]
  },
  {
   "cell_type": "code",
   "execution_count": 7,
   "metadata": {},
   "outputs": [
    {
     "data": {
      "image/png": "[encoded data removed]",
      "text/plain": [
       "<Figure size 720x432 with 1 Axes>"
      ]
     },
     "metadata": {
      "needs_background": "light"
     },
     "output_type": "display_data"
    }
   ],
   "source": [
    "#Plotting a bar graph for count of the claims for the first 5 claimants\n",
    "plt.figure(figsize=(10,6))\n",
    "label = ['Donald Trump', 'Bloggers', 'Barack Obama', 'Hillary Clinton', 'Viral image']\n",
    "\n",
    "data = [claims_pd['claimant'].value_counts()[1:6][i] for i in range(5)] \n",
    "plt.bar(label, height = data, width = 0.5)\n",
    "#Setting the title\n",
    "plt.title('Counts of claims for first 5 claimants', fontsize=14)\n",
    "#Setting the x-label\n",
    "plt.xlabel('Top 5 Claimants',fontsize=14)\n",
    "#Seting the y-label\n",
    "plt.ylabel('Claims count',fontsize=14)\n",
    "\n",
    "plt.show()"
   ]
  },
  {
   "cell_type": "markdown",
   "metadata": {},
   "source": [
    "**The plot above represents the top 5 counts of claims made by the claimants. Out of them Donald Trump had the highest number of claims made**\n",
    "\n",
    "**We will divide this further**"
   ]
  },
  {
   "cell_type": "code",
   "execution_count": 8,
   "metadata": {},
   "outputs": [
    {
     "name": "stderr",
     "output_type": "stream",
     "text": [
      "<ipython-input-8-aae21c9f0b20>:3: SettingWithCopyWarning: \n",
      "A value is trying to be set on a copy of a slice from a DataFrame.\n",
      "Try using .loc[row_indexer,col_indexer] = value instead\n",
      "\n",
      "See the caveats in the documentation: https://pandas.pydata.org/pandas-docs/stable/user_guide/indexing.html#returning-a-view-versus-a-copy\n",
      "  top5['label_new'] = top5['label'].map({0: 'False', 1:'Partly True', 2: 'True'})\n"
     ]
    }
   ],
   "source": [
    "#Putting the top five claimants in a list\n",
    "top5 = claims_pd[(claims_pd['claimant'] == 'Donald Trump') | (claims_pd['claimant'] == 'Bloggers') | (claims_pd['claimant'] == 'Barack Obama') | (claims_pd['claimant'] =='Hillary Clinton') | (claims_pd['claimant'] =='Viral image')]\n",
    "top5['label_new'] = top5['label'].map({0: 'False', 1:'Partly True', 2: 'True'})"
   ]
  },
  {
   "cell_type": "code",
   "execution_count": 9,
   "metadata": {},
   "outputs": [
    {
     "data": {
      "image/png": "[encoded data removed]",
      "text/plain": [
       "<Figure size 864x432 with 1 Axes>"
      ]
     },
     "metadata": {
      "needs_background": "light"
     },
     "output_type": "display_data"
    }
   ],
   "source": [
    "#Plotting a histogram of for the top 5 claimants and the validity of their claim\n",
    "plt.figure(figsize=(12,6))\n",
    "sns.countplot(x='claimant',data=top5,hue='label_new')\n",
    "#Setting the title\n",
    "plt.title('Claim classification of Top-5 Claimants', fontsize=18)\n",
    "#Setting the x-label\n",
    "plt.xlabel('Top-5 Claimants',fontsize=15)\n",
    "plt.xticks(fontsize=13)\n",
    "#Setting the y-label\n",
    "plt.ylabel('Claims Count',fontsize=15)\n",
    "plt.yticks(fontsize=13)\n",
    "\n",
    "plt.legend(fontsize=13)\n",
    "\n",
    "plt.show()"
   ]
  },
  {
   "cell_type": "markdown",
   "metadata": {},
   "source": [
    "**The above plot represents the distribution of number of false, partly true and true claims made by the top 5 claimants**\n",
    "\n",
    "**Out of the top 5 only Barack Obama and Hilary Clinton made true claims more than the false or partly true claims**\n",
    "\n",
    "**Also it is astonishing to note that Donald Trump made more false claims than 50% of the his total claims**"
   ]
  },
  {
   "cell_type": "markdown",
   "metadata": {},
   "source": [
    "## Data Cleaning"
   ]
  },
  {
   "cell_type": "markdown",
   "metadata": {},
   "source": [
    "### a) Cleaning Articles"
   ]
  },
  {
   "cell_type": "markdown",
   "metadata": {},
   "source": [
    "**Extracting the articles from the system and merging the articles for the respective claims below. Then, performing text cleaning on the merged article for each claim, removing stopwords, converting the letters to small case, and stemming the words**"
   ]
  },
  {
   "cell_type": "code",
   "execution_count": 10,
   "metadata": {},
   "outputs": [],
   "source": [
    "# Defining a new function to concatenate and clean the articles\n",
    "\n",
    "def new_data(ind):\n",
    "    concat_article = []\n",
    "    for i in range(len(claims_pd.iloc[ind, -2])):\n",
    "        article_number = claims_pd.iloc[ind, -2][i]\n",
    "        with open(os.path.join(ARTICLES_FILEPATH, '%d.txt' % article_number), 'r', encoding=\"utf8\") as f:\n",
    "            a = f.read()\n",
    "        concat_article.append(a)\n",
    "    new = []\n",
    "    for a in range(len(concat_article)):\n",
    "        sp = concat_article[a].split('\\n')\n",
    "        new.append(sp)\n",
    "    \n",
    "    sentences = sent_tokenize(str(new))\n",
    "    tokens = re.split(r'\\W+', str(sentences))\n",
    "    tokens = [w.lower() for w in tokens]\n",
    "    table = str.maketrans('', '', string.punctuation)\n",
    "    stripped = [w.translate(table) for w in tokens]\n",
    "    words = [word for word in stripped if word.isalpha()]\n",
    "    \n",
    "    stop_words = set(stopwords.words('english'))\n",
    "    words = [w for w in words if not w in stop_words]\n",
    "    \n",
    "    stemmatizer = SnowballStemmer('english')\n",
    "    stemmatized = [stemmatizer.stem(word) for word in words]\n",
    "    return(' '.join(stemmatized))"
   ]
  },
  {
   "cell_type": "code",
   "execution_count": 11,
   "metadata": {},
   "outputs": [
    {
     "name": "stdout",
     "output_type": "stream",
     "text": [
      "Execution time for concatinating and cleaning the articles =  901.9781768321991\n"
     ]
    }
   ],
   "source": [
    "#Applying the above function to our dataframe\n",
    "start = time.time()\n",
    "clean_articles = [new_data(i) for i in range(len(claims_pd))]\n",
    "print('Execution time for concatinating and cleaning the articles = ', time.time()-start)"
   ]
  },
  {
   "cell_type": "markdown",
   "metadata": {},
   "source": [
    "### b) Cleaning Claims\n",
    "\n",
    "The process for text cleaning is the same as that of articles."
   ]
  },
  {
   "cell_type": "code",
   "execution_count": 12,
   "metadata": {},
   "outputs": [],
   "source": [
    "# Defining a function to clean the claims\n",
    "\n",
    "def clean_claim(ind):\n",
    "    \n",
    "    sentences = sent_tokenize(str(claims_pd.iloc[ind, 0]))\n",
    "    tokens = re.split(r'\\W+',str(sentences))\n",
    "    tokens = [w.lower() for w in tokens]\n",
    "    table = str.maketrans('', '', string.punctuation)\n",
    "    stripped = [w.translate(table) for w in tokens]\n",
    "    words = [word for word in stripped if word.isalpha()]\n",
    "    \n",
    "    stop_words = set(stopwords.words('english'))\n",
    "    words = [w for w in words if not w in stop_words]\n",
    "    stemmatizer = SnowballStemmer('english')\n",
    "    stemmatized = [stemmatizer.stem(word) for word in words]\n",
    "    return(' '.join(stemmatized))"
   ]
  },
  {
   "cell_type": "code",
   "execution_count": 13,
   "metadata": {},
   "outputs": [
    {
     "name": "stdout",
     "output_type": "stream",
     "text": [
      "Execution time for cleaning the claims =  9.275229215621948\n"
     ]
    }
   ],
   "source": [
    "#Applying the above function to our dataframe\n",
    "start = time.time()\n",
    "clean_claims = [clean_claim(i) for i in range(len(claims_pd))]\n",
    "print('Execution time for cleaning the claims = ', time.time()-start)"
   ]
  },
  {
   "cell_type": "markdown",
   "metadata": {},
   "source": [
    "### c) Appending cleaned articles and claims in the claims_pd dataframe."
   ]
  },
  {
   "cell_type": "code",
   "execution_count": 14,
   "metadata": {},
   "outputs": [
    {
     "data": {
      "text/html": [
       "<div>\n",
       "<style scoped>\n",
       "    .dataframe tbody tr th:only-of-type {\n",
       "        vertical-align: middle;\n",
       "    }\n",
       "\n",
       "    .dataframe tbody tr th {\n",
       "        vertical-align: top;\n",
       "    }\n",
       "\n",
       "    .dataframe thead th {\n",
       "        text-align: right;\n",
       "    }\n",
       "</style>\n",
       "<table border=\"1\" class=\"dataframe\">\n",
       "  <thead>\n",
       "    <tr style=\"text-align: right;\">\n",
       "      <th></th>\n",
       "      <th>claim</th>\n",
       "      <th>claimant</th>\n",
       "      <th>date</th>\n",
       "      <th>label</th>\n",
       "      <th>related_articles</th>\n",
       "      <th>id</th>\n",
       "      <th>clean articles</th>\n",
       "      <th>clean claims</th>\n",
       "    </tr>\n",
       "  </thead>\n",
       "  <tbody>\n",
       "    <tr>\n",
       "      <th>0</th>\n",
       "      <td>A line from George Orwell's novel 1984 predict...</td>\n",
       "      <td></td>\n",
       "      <td>2017-07-17</td>\n",
       "      <td>0</td>\n",
       "      <td>[122094, 122580, 130685, 134765]</td>\n",
       "      <td>0</td>\n",
       "      <td>georg orwel predict almost year ago april comr...</td>\n",
       "      <td>line georg orwel novel predict power smartphon</td>\n",
       "    </tr>\n",
       "    <tr>\n",
       "      <th>1</th>\n",
       "      <td>Maine legislature candidate Leslie Gibson insu...</td>\n",
       "      <td></td>\n",
       "      <td>2018-03-17</td>\n",
       "      <td>2</td>\n",
       "      <td>[106868, 127320, 128060]</td>\n",
       "      <td>1</td>\n",
       "      <td>republican critic parkland student drop main h...</td>\n",
       "      <td>main legislatur candid lesli gibson insult par...</td>\n",
       "    </tr>\n",
       "    <tr>\n",
       "      <th>2</th>\n",
       "      <td>A 17-year-old girl named Alyssa Carson is bein...</td>\n",
       "      <td></td>\n",
       "      <td>2018-07-18</td>\n",
       "      <td>1</td>\n",
       "      <td>[132130, 132132, 149722]</td>\n",
       "      <td>4</td>\n",
       "      <td>first person complet nasa passport program ast...</td>\n",
       "      <td>year old girl name alyssa carson train nasa be...</td>\n",
       "    </tr>\n",
       "    <tr>\n",
       "      <th>3</th>\n",
       "      <td>In 1988 author Roald Dahl penned an open lette...</td>\n",
       "      <td></td>\n",
       "      <td>2019-02-04</td>\n",
       "      <td>2</td>\n",
       "      <td>[123254, 123418, 127464]</td>\n",
       "      <td>5</td>\n",
       "      <td>danger measl tweet march mani parent think mea...</td>\n",
       "      <td>author roald dahl pen open letter urg parent c...</td>\n",
       "    </tr>\n",
       "    <tr>\n",
       "      <th>4</th>\n",
       "      <td>When it comes to fighting terrorism, \"Another ...</td>\n",
       "      <td>Hillary Clinton</td>\n",
       "      <td>2016-03-22</td>\n",
       "      <td>2</td>\n",
       "      <td>[41099, 89899, 72543, 82644, 95344, 88361]</td>\n",
       "      <td>6</td>\n",
       "      <td>remark counterterror stanford univers slogan s...</td>\n",
       "      <td>come fight terror anoth thing know work base l...</td>\n",
       "    </tr>\n",
       "  </tbody>\n",
       "</table>\n",
       "</div>"
      ],
      "text/plain": [
       "                                               claim         claimant  \\\n",
       "0  A line from George Orwell's novel 1984 predict...                    \n",
       "1  Maine legislature candidate Leslie Gibson insu...                    \n",
       "2  A 17-year-old girl named Alyssa Carson is bein...                    \n",
       "3  In 1988 author Roald Dahl penned an open lette...                    \n",
       "4  When it comes to fighting terrorism, \"Another ...  Hillary Clinton   \n",
       "\n",
       "         date  label                            related_articles  id  \\\n",
       "0  2017-07-17      0            [122094, 122580, 130685, 134765]   0   \n",
       "1  2018-03-17      2                    [106868, 127320, 128060]   1   \n",
       "2  2018-07-18      1                    [132130, 132132, 149722]   4   \n",
       "3  2019-02-04      2                    [123254, 123418, 127464]   5   \n",
       "4  2016-03-22      2  [41099, 89899, 72543, 82644, 95344, 88361]   6   \n",
       "\n",
       "                                      clean articles  \\\n",
       "0  georg orwel predict almost year ago april comr...   \n",
       "1  republican critic parkland student drop main h...   \n",
       "2  first person complet nasa passport program ast...   \n",
       "3  danger measl tweet march mani parent think mea...   \n",
       "4  remark counterterror stanford univers slogan s...   \n",
       "\n",
       "                                        clean claims  \n",
       "0     line georg orwel novel predict power smartphon  \n",
       "1  main legislatur candid lesli gibson insult par...  \n",
       "2  year old girl name alyssa carson train nasa be...  \n",
       "3  author roald dahl pen open letter urg parent c...  \n",
       "4  come fight terror anoth thing know work base l...  "
      ]
     },
     "execution_count": 14,
     "metadata": {},
     "output_type": "execute_result"
    }
   ],
   "source": [
    "#Adding our cleaned claims and cleaned articles to the orignal dataframe\n",
    "claims_pd['clean articles'] = clean_articles\n",
    "claims_pd['clean claims'] = clean_claims\n",
    "\n",
    "claims_pd.head()"
   ]
  },
  {
   "cell_type": "markdown",
   "metadata": {},
   "source": [
    "**A column is added with the Year of the claim below**"
   ]
  },
  {
   "cell_type": "code",
   "execution_count": 15,
   "metadata": {},
   "outputs": [
    {
     "data": {
      "text/html": [
       "<div>\n",
       "<style scoped>\n",
       "    .dataframe tbody tr th:only-of-type {\n",
       "        vertical-align: middle;\n",
       "    }\n",
       "\n",
       "    .dataframe tbody tr th {\n",
       "        vertical-align: top;\n",
       "    }\n",
       "\n",
       "    .dataframe thead th {\n",
       "        text-align: right;\n",
       "    }\n",
       "</style>\n",
       "<table border=\"1\" class=\"dataframe\">\n",
       "  <thead>\n",
       "    <tr style=\"text-align: right;\">\n",
       "      <th></th>\n",
       "      <th>claim</th>\n",
       "      <th>claimant</th>\n",
       "      <th>date</th>\n",
       "      <th>label</th>\n",
       "      <th>related_articles</th>\n",
       "      <th>id</th>\n",
       "      <th>clean articles</th>\n",
       "      <th>clean claims</th>\n",
       "      <th>year</th>\n",
       "      <th>label_new</th>\n",
       "    </tr>\n",
       "  </thead>\n",
       "  <tbody>\n",
       "    <tr>\n",
       "      <th>0</th>\n",
       "      <td>A line from George Orwell's novel 1984 predict...</td>\n",
       "      <td></td>\n",
       "      <td>2017-07-17</td>\n",
       "      <td>0</td>\n",
       "      <td>[122094, 122580, 130685, 134765]</td>\n",
       "      <td>0</td>\n",
       "      <td>georg orwel predict almost year ago april comr...</td>\n",
       "      <td>line georg orwel novel predict power smartphon</td>\n",
       "      <td>2017</td>\n",
       "      <td>False</td>\n",
       "    </tr>\n",
       "    <tr>\n",
       "      <th>1</th>\n",
       "      <td>Maine legislature candidate Leslie Gibson insu...</td>\n",
       "      <td></td>\n",
       "      <td>2018-03-17</td>\n",
       "      <td>2</td>\n",
       "      <td>[106868, 127320, 128060]</td>\n",
       "      <td>1</td>\n",
       "      <td>republican critic parkland student drop main h...</td>\n",
       "      <td>main legislatur candid lesli gibson insult par...</td>\n",
       "      <td>2018</td>\n",
       "      <td>True</td>\n",
       "    </tr>\n",
       "    <tr>\n",
       "      <th>2</th>\n",
       "      <td>A 17-year-old girl named Alyssa Carson is bein...</td>\n",
       "      <td></td>\n",
       "      <td>2018-07-18</td>\n",
       "      <td>1</td>\n",
       "      <td>[132130, 132132, 149722]</td>\n",
       "      <td>4</td>\n",
       "      <td>first person complet nasa passport program ast...</td>\n",
       "      <td>year old girl name alyssa carson train nasa be...</td>\n",
       "      <td>2018</td>\n",
       "      <td>Partly True</td>\n",
       "    </tr>\n",
       "    <tr>\n",
       "      <th>3</th>\n",
       "      <td>In 1988 author Roald Dahl penned an open lette...</td>\n",
       "      <td></td>\n",
       "      <td>2019-02-04</td>\n",
       "      <td>2</td>\n",
       "      <td>[123254, 123418, 127464]</td>\n",
       "      <td>5</td>\n",
       "      <td>danger measl tweet march mani parent think mea...</td>\n",
       "      <td>author roald dahl pen open letter urg parent c...</td>\n",
       "      <td>2019</td>\n",
       "      <td>True</td>\n",
       "    </tr>\n",
       "    <tr>\n",
       "      <th>4</th>\n",
       "      <td>When it comes to fighting terrorism, \"Another ...</td>\n",
       "      <td>Hillary Clinton</td>\n",
       "      <td>2016-03-22</td>\n",
       "      <td>2</td>\n",
       "      <td>[41099, 89899, 72543, 82644, 95344, 88361]</td>\n",
       "      <td>6</td>\n",
       "      <td>remark counterterror stanford univers slogan s...</td>\n",
       "      <td>come fight terror anoth thing know work base l...</td>\n",
       "      <td>2016</td>\n",
       "      <td>True</td>\n",
       "    </tr>\n",
       "  </tbody>\n",
       "</table>\n",
       "</div>"
      ],
      "text/plain": [
       "                                               claim         claimant  \\\n",
       "0  A line from George Orwell's novel 1984 predict...                    \n",
       "1  Maine legislature candidate Leslie Gibson insu...                    \n",
       "2  A 17-year-old girl named Alyssa Carson is bein...                    \n",
       "3  In 1988 author Roald Dahl penned an open lette...                    \n",
       "4  When it comes to fighting terrorism, \"Another ...  Hillary Clinton   \n",
       "\n",
       "         date  label                            related_articles  id  \\\n",
       "0  2017-07-17      0            [122094, 122580, 130685, 134765]   0   \n",
       "1  2018-03-17      2                    [106868, 127320, 128060]   1   \n",
       "2  2018-07-18      1                    [132130, 132132, 149722]   4   \n",
       "3  2019-02-04      2                    [123254, 123418, 127464]   5   \n",
       "4  2016-03-22      2  [41099, 89899, 72543, 82644, 95344, 88361]   6   \n",
       "\n",
       "                                      clean articles  \\\n",
       "0  georg orwel predict almost year ago april comr...   \n",
       "1  republican critic parkland student drop main h...   \n",
       "2  first person complet nasa passport program ast...   \n",
       "3  danger measl tweet march mani parent think mea...   \n",
       "4  remark counterterror stanford univers slogan s...   \n",
       "\n",
       "                                        clean claims  year    label_new  \n",
       "0     line georg orwel novel predict power smartphon  2017        False  \n",
       "1  main legislatur candid lesli gibson insult par...  2018         True  \n",
       "2  year old girl name alyssa carson train nasa be...  2018  Partly True  \n",
       "3  author roald dahl pen open letter urg parent c...  2019         True  \n",
       "4  come fight terror anoth thing know work base l...  2016         True  "
      ]
     },
     "execution_count": 15,
     "metadata": {},
     "output_type": "execute_result"
    }
   ],
   "source": [
    "#Adding a new column showing the year for the made claim\n",
    "claims_pd['year'] = [int(claims_pd['date'][i][0:4]) for i in claims_pd.index]\n",
    "#Adding a new column showing the validity(label) for the made claim\n",
    "claims_pd['label_new'] = claims_pd['label'].map({0: 'False', 1:'Partly True', 2: 'True'})\n",
    "\n",
    "claims_pd.head()"
   ]
  },
  {
   "cell_type": "code",
   "execution_count": 16,
   "metadata": {},
   "outputs": [
    {
     "data": {
      "image/png": "[encoded data removed]",
      "text/plain": [
       "<Figure size 1080x432 with 1 Axes>"
      ]
     },
     "metadata": {
      "needs_background": "light"
     },
     "output_type": "display_data"
    }
   ],
   "source": [
    "#Plotting a histogram for the no of claims over the years and their label\n",
    "plt.figure(figsize=(15,6))\n",
    "sns.countplot(x='year',data=claims_pd,hue='label_new')\n",
    "#Setting the title\n",
    "plt.title('Claims Classification over the Years', fontsize=16)\n",
    "#Setting the x-label\n",
    "plt.xlabel('Year',fontsize=15)\n",
    "plt.xticks(fontsize=13, rotation = 45)\n",
    "#Setting the y-label\n",
    "plt.ylabel('Claims Count',fontsize=15)\n",
    "plt.yticks(fontsize=13)\n",
    "\n",
    "plt.legend(fontsize=15)\n",
    "\n",
    "plt.show()"
   ]
  },
  {
   "cell_type": "markdown",
   "metadata": {},
   "source": [
    "The plot depicts the bifurcation of claims made each year. As we can see the number of claims made kept on increasing until 2018 and along with it the count of false claims also kept on increasing each year.\n",
    "\n",
    "**Note: As there isn't much data for 2019 in our dataset, a low count is observed which should not be confused with low count of claims made actually in that year**"
   ]
  },
  {
   "cell_type": "code",
   "execution_count": 17,
   "metadata": {},
   "outputs": [
    {
     "data": {
      "image/png": "[encoded data removed]",
      "text/plain": [
       "<Figure size 720x504 with 1 Axes>"
      ]
     },
     "metadata": {
      "needs_background": "light"
     },
     "output_type": "display_data"
    }
   ],
   "source": [
    "#Plotting a bar chart for the no. of false claimants over the years\n",
    "fc = claims_pd[claims_pd['label']==0].groupby(['year'])['claimant'].nunique()[9:13]\n",
    "label = ['2015', '2016', '2017', '2018']\n",
    "plt.figure(figsize=(10,7))\n",
    "plt.bar(label, height = fc, width = 0.5)\n",
    "\n",
    "#Setting the title\n",
    "plt.title('No of False Claimants over the years', fontsize=17)\n",
    "#Setting the x-label\n",
    "plt.xlabel('Years',fontsize=15)\n",
    "plt.xticks(fontsize=13)\n",
    "#Seting the y-label\n",
    "plt.ylabel('Claimants Count',fontsize=15)\n",
    "plt.yticks(fontsize=13)\n",
    "\n",
    "plt.show()"
   ]
  },
  {
   "cell_type": "markdown",
   "metadata": {},
   "source": [
    "The bar-chart shows how the number of false claimants have increased year-on-year since 2015 to 2018"
   ]
  },
  {
   "cell_type": "markdown",
   "metadata": {},
   "source": [
    "**For the model, we will omit the claims made by Donald Trump, Hillary Clinton and Barack Obama and then make predictions on these omitted datapoints**\n",
    "\n",
    "**Splitting the dataset below**"
   ]
  },
  {
   "cell_type": "code",
   "execution_count": 18,
   "metadata": {},
   "outputs": [],
   "source": [
    "big = claims_pd[~ ((claims_pd['claimant']=='Donald Trump') | (claims_pd['claimant']=='Hillary Clinton') | (claims_pd['claimant']=='Barack Obama'))] \n",
    "# Training data set without taking Donald Trump, Hillary Clinton and Barack Obama in the data set\n",
    "\n",
    "small = claims_pd[(claims_pd['claimant']=='Donald Trump') | (claims_pd['claimant']=='Hillary Clinton') | (claims_pd['claimant']=='Barack Obama')] \n",
    "# Testing data set with Donald Trump, Hillary Clinton and Barack Obama in the data set"
   ]
  },
  {
   "cell_type": "code",
   "execution_count": 19,
   "metadata": {},
   "outputs": [
    {
     "data": {
      "text/html": [
       "<div>\n",
       "<style scoped>\n",
       "    .dataframe tbody tr th:only-of-type {\n",
       "        vertical-align: middle;\n",
       "    }\n",
       "\n",
       "    .dataframe tbody tr th {\n",
       "        vertical-align: top;\n",
       "    }\n",
       "\n",
       "    .dataframe thead th {\n",
       "        text-align: right;\n",
       "    }\n",
       "</style>\n",
       "<table border=\"1\" class=\"dataframe\">\n",
       "  <thead>\n",
       "    <tr style=\"text-align: right;\">\n",
       "      <th></th>\n",
       "      <th>claim</th>\n",
       "      <th>claimant</th>\n",
       "      <th>date</th>\n",
       "      <th>label</th>\n",
       "      <th>related_articles</th>\n",
       "      <th>id</th>\n",
       "      <th>clean articles</th>\n",
       "      <th>clean claims</th>\n",
       "      <th>year</th>\n",
       "      <th>label_new</th>\n",
       "    </tr>\n",
       "  </thead>\n",
       "  <tbody>\n",
       "    <tr>\n",
       "      <th>0</th>\n",
       "      <td>A line from George Orwell's novel 1984 predict...</td>\n",
       "      <td></td>\n",
       "      <td>2017-07-17</td>\n",
       "      <td>0</td>\n",
       "      <td>[122094, 122580, 130685, 134765]</td>\n",
       "      <td>0</td>\n",
       "      <td>georg orwel predict almost year ago april comr...</td>\n",
       "      <td>line georg orwel novel predict power smartphon</td>\n",
       "      <td>2017</td>\n",
       "      <td>False</td>\n",
       "    </tr>\n",
       "    <tr>\n",
       "      <th>1</th>\n",
       "      <td>Maine legislature candidate Leslie Gibson insu...</td>\n",
       "      <td></td>\n",
       "      <td>2018-03-17</td>\n",
       "      <td>2</td>\n",
       "      <td>[106868, 127320, 128060]</td>\n",
       "      <td>1</td>\n",
       "      <td>republican critic parkland student drop main h...</td>\n",
       "      <td>main legislatur candid lesli gibson insult par...</td>\n",
       "      <td>2018</td>\n",
       "      <td>True</td>\n",
       "    </tr>\n",
       "    <tr>\n",
       "      <th>2</th>\n",
       "      <td>A 17-year-old girl named Alyssa Carson is bein...</td>\n",
       "      <td></td>\n",
       "      <td>2018-07-18</td>\n",
       "      <td>1</td>\n",
       "      <td>[132130, 132132, 149722]</td>\n",
       "      <td>4</td>\n",
       "      <td>first person complet nasa passport program ast...</td>\n",
       "      <td>year old girl name alyssa carson train nasa be...</td>\n",
       "      <td>2018</td>\n",
       "      <td>Partly True</td>\n",
       "    </tr>\n",
       "    <tr>\n",
       "      <th>3</th>\n",
       "      <td>In 1988 author Roald Dahl penned an open lette...</td>\n",
       "      <td></td>\n",
       "      <td>2019-02-04</td>\n",
       "      <td>2</td>\n",
       "      <td>[123254, 123418, 127464]</td>\n",
       "      <td>5</td>\n",
       "      <td>danger measl tweet march mani parent think mea...</td>\n",
       "      <td>author roald dahl pen open letter urg parent c...</td>\n",
       "      <td>2019</td>\n",
       "      <td>True</td>\n",
       "    </tr>\n",
       "    <tr>\n",
       "      <th>5</th>\n",
       "      <td>Rhode Island is \"almost dead last\" among North...</td>\n",
       "      <td>Leonidas Raptakis</td>\n",
       "      <td>2014-02-11</td>\n",
       "      <td>2</td>\n",
       "      <td>[8284, 3768, 20091, 82368, 73148, 4493]</td>\n",
       "      <td>7</td>\n",
       "      <td>lis code virginia prev next punish convict fel...</td>\n",
       "      <td>rhode island almost dead last among northeaste...</td>\n",
       "      <td>2014</td>\n",
       "      <td>True</td>\n",
       "    </tr>\n",
       "  </tbody>\n",
       "</table>\n",
       "</div>"
      ],
      "text/plain": [
       "                                               claim           claimant  \\\n",
       "0  A line from George Orwell's novel 1984 predict...                      \n",
       "1  Maine legislature candidate Leslie Gibson insu...                      \n",
       "2  A 17-year-old girl named Alyssa Carson is bein...                      \n",
       "3  In 1988 author Roald Dahl penned an open lette...                      \n",
       "5  Rhode Island is \"almost dead last\" among North...  Leonidas Raptakis   \n",
       "\n",
       "         date  label                         related_articles  id  \\\n",
       "0  2017-07-17      0         [122094, 122580, 130685, 134765]   0   \n",
       "1  2018-03-17      2                 [106868, 127320, 128060]   1   \n",
       "2  2018-07-18      1                 [132130, 132132, 149722]   4   \n",
       "3  2019-02-04      2                 [123254, 123418, 127464]   5   \n",
       "5  2014-02-11      2  [8284, 3768, 20091, 82368, 73148, 4493]   7   \n",
       "\n",
       "                                      clean articles  \\\n",
       "0  georg orwel predict almost year ago april comr...   \n",
       "1  republican critic parkland student drop main h...   \n",
       "2  first person complet nasa passport program ast...   \n",
       "3  danger measl tweet march mani parent think mea...   \n",
       "5  lis code virginia prev next punish convict fel...   \n",
       "\n",
       "                                        clean claims  year    label_new  \n",
       "0     line georg orwel novel predict power smartphon  2017        False  \n",
       "1  main legislatur candid lesli gibson insult par...  2018         True  \n",
       "2  year old girl name alyssa carson train nasa be...  2018  Partly True  \n",
       "3  author roald dahl pen open letter urg parent c...  2019         True  \n",
       "5  rhode island almost dead last among northeaste...  2014         True  "
      ]
     },
     "execution_count": 19,
     "metadata": {},
     "output_type": "execute_result"
    }
   ],
   "source": [
    "big.head()  #Displaying the training dataset"
   ]
  },
  {
   "cell_type": "markdown",
   "metadata": {},
   "source": [
    "## Model Preparation\n",
    "\n",
    "**As the datasets are ready now, dataset is vecorized using TF-IDF and the model implementation is done**"
   ]
  },
  {
   "cell_type": "markdown",
   "metadata": {},
   "source": [
    "Using TF-IDF vectorizer for converting the text to vectors.\n",
    "\n",
    "Term frequency–inverse document frequency, is a numerical statistic that is intended to reflect how important a word is to a document in a collection or corpus. The tf–idf value increases proportionally to the number of times a word appears in the document and is offset by the number of documents in the corpus that contain the word, which helps to adjust for the fact that some words appear more frequently in general.\n",
    "\n",
    "Source - https://en.wikipedia.org/wiki/Tf%E2%80%93idf"
   ]
  },
  {
   "cell_type": "markdown",
   "metadata": {},
   "source": [
    "### a) Vectorizing training dataset"
   ]
  },
  {
   "cell_type": "code",
   "execution_count": 20,
   "metadata": {
    "scrolled": true
   },
   "outputs": [],
   "source": [
    "#Using the Tfidf Vectorizer on the training set\n",
    "\n",
    "vectorizer1 = TfidfVectorizer(use_idf=True, smooth_idf=True, norm='l2', max_features = 1400)\n",
    "vectorizer1.fit(big['clean claims']+big['clean articles'])\n",
    "array_TFIDF1 = vectorizer1.transform(big['clean claims']+big['clean articles'])"
   ]
  },
  {
   "cell_type": "markdown",
   "metadata": {},
   "source": [
    "### b) Vectorizing testing dataset"
   ]
  },
  {
   "cell_type": "code",
   "execution_count": 21,
   "metadata": {
    "scrolled": true
   },
   "outputs": [],
   "source": [
    "#Vectorizing the test set\n",
    "\n",
    "array_TFIDF2 = vectorizer1.transform(small['clean claims']+small['clean articles'])"
   ]
  },
  {
   "cell_type": "code",
   "execution_count": 22,
   "metadata": {},
   "outputs": [],
   "source": [
    "#Allocating the training and testing datasets\n",
    "\n",
    "X_train = array_TFIDF1\n",
    "X_test = array_TFIDF2\n",
    "y_train = big['label']\n",
    "y_test = small['label']"
   ]
  },
  {
   "cell_type": "markdown",
   "metadata": {},
   "source": [
    "## Model Implementation"
   ]
  },
  {
   "cell_type": "markdown",
   "metadata": {},
   "source": [
    "**Let's implement algorithms on the training dataset**"
   ]
  },
  {
   "cell_type": "markdown",
   "metadata": {},
   "source": [
    "**a) Random Forest**"
   ]
  },
  {
   "cell_type": "code",
   "execution_count": 23,
   "metadata": {},
   "outputs": [
    {
     "name": "stdout",
     "output_type": "stream",
     "text": [
      "Accuracy: 0.5732068761114404\n",
      "              precision    recall  f1-score   support\n",
      "\n",
      "           0       0.66      0.59      0.62       910\n",
      "           1       0.49      0.65      0.56       669\n",
      "           2       0.17      0.01      0.02       108\n",
      "\n",
      "    accuracy                           0.57      1687\n",
      "   macro avg       0.44      0.41      0.40      1687\n",
      "weighted avg       0.56      0.57      0.56      1687\n",
      "\n"
     ]
    }
   ],
   "source": [
    "#Using the Random Forest Algorithm\n",
    "rf = RandomForestClassifier(random_state = 0)\n",
    "#Fitting the model\n",
    "rf.fit(X_train, y_train)\n",
    "predictions0 = rf.predict(X_test)\n",
    "#Finding the accuracy of the predictions\n",
    "ACCU = accuracy_score(y_test, predictions0)\n",
    "print('Accuracy:', ACCU)\n",
    "#Printing the classification report \n",
    "print(classification_report(y_test,predictions0))"
   ]
  },
  {
   "cell_type": "markdown",
   "metadata": {},
   "source": [
    "**b) XGBoost**"
   ]
  },
  {
   "cell_type": "code",
   "execution_count": 24,
   "metadata": {},
   "outputs": [
    {
     "name": "stderr",
     "output_type": "stream",
     "text": [
      "C:\\Users\\siddh\\anaconda3\\lib\\site-packages\\xgboost\\sklearn.py:1224: UserWarning: The use of label encoder in XGBClassifier is deprecated and will be removed in a future release. To remove this warning, do the following: 1) Pass option use_label_encoder=False when constructing XGBClassifier object; and 2) Encode your labels (y) as integers starting with 0, i.e. 0, 1, 2, ..., [num_class - 1].\n",
      "  warnings.warn(label_encoder_deprecation_msg, UserWarning)\n"
     ]
    },
    {
     "name": "stdout",
     "output_type": "stream",
     "text": [
      "[14:39:57] WARNING: C:/Users/Administrator/workspace/xgboost-win64_release_1.5.1/src/learner.cc:1115: Starting in XGBoost 1.3.0, the default evaluation metric used with the objective 'multi:softprob' was changed from 'merror' to 'mlogloss'. Explicitly set eval_metric if you'd like to restore the old behavior.\n",
      "Accuracy: 0.6\n",
      "              precision    recall  f1-score   support\n",
      "\n",
      "           0       0.69      0.62      0.65       910\n",
      "           1       0.51      0.66      0.58       669\n",
      "           2       0.27      0.03      0.05       108\n",
      "\n",
      "    accuracy                           0.60      1687\n",
      "   macro avg       0.49      0.43      0.43      1687\n",
      "weighted avg       0.59      0.60      0.58      1687\n",
      "\n"
     ]
    }
   ],
   "source": [
    "xgb = XGBClassifier(random_state = 0)\n",
    "xgb.fit(X_train, y_train)\n",
    "predictions = xgb.predict(X_test)\n",
    "ACCU = accuracy_score(y_test, predictions)\n",
    "print('Accuracy:', round(ACCU,2))\n",
    "print(classification_report(y_test,predictions))"
   ]
  },
  {
   "cell_type": "markdown",
   "metadata": {},
   "source": [
    "**c) Support Vector Machines (SVM)**"
   ]
  },
  {
   "cell_type": "code",
   "execution_count": 25,
   "metadata": {},
   "outputs": [
    {
     "name": "stdout",
     "output_type": "stream",
     "text": [
      "Accuracy: 0.5275637225844695\n",
      "              precision    recall  f1-score   support\n",
      "\n",
      "           0       0.63      0.49      0.55       910\n",
      "           1       0.45      0.66      0.54       669\n",
      "           2       0.42      0.05      0.08       108\n",
      "\n",
      "    accuracy                           0.53      1687\n",
      "   macro avg       0.50      0.40      0.39      1687\n",
      "weighted avg       0.55      0.53      0.52      1687\n",
      "\n"
     ]
    }
   ],
   "source": [
    "#Using SVM ( Linear ) model\n",
    "svcl = LinearSVC(random_state = 0)\n",
    "#Fitting the model\n",
    "svcl.fit(X_train, y_train)\n",
    "predictions2 = svcl.predict(X_test)\n",
    "#Finding the accuracy of the predictions\n",
    "ACCU = accuracy_score(y_test, predictions2)\n",
    "print('Accuracy:', ACCU)\n",
    "#Printing the classification report \n",
    "print(classification_report(y_test,predictions2))"
   ]
  },
  {
   "cell_type": "markdown",
   "metadata": {},
   "source": [
    "**d) Logistic Regression**"
   ]
  },
  {
   "cell_type": "code",
   "execution_count": 26,
   "metadata": {},
   "outputs": [
    {
     "name": "stdout",
     "output_type": "stream",
     "text": [
      "Accuracy: 0.5323058684054535\n",
      "              precision    recall  f1-score   support\n",
      "\n",
      "           0       0.64      0.50      0.56       910\n",
      "           1       0.46      0.65      0.54       669\n",
      "           2       0.50      0.04      0.07       108\n",
      "\n",
      "    accuracy                           0.53      1687\n",
      "   macro avg       0.53      0.40      0.39      1687\n",
      "weighted avg       0.56      0.53      0.52      1687\n",
      "\n"
     ]
    },
    {
     "name": "stderr",
     "output_type": "stream",
     "text": [
      "C:\\Users\\siddh\\anaconda3\\lib\\site-packages\\sklearn\\linear_model\\_logistic.py:814: ConvergenceWarning: lbfgs failed to converge (status=1):\n",
      "STOP: TOTAL NO. of ITERATIONS REACHED LIMIT.\n",
      "\n",
      "Increase the number of iterations (max_iter) or scale the data as shown in:\n",
      "    https://scikit-learn.org/stable/modules/preprocessing.html\n",
      "Please also refer to the documentation for alternative solver options:\n",
      "    https://scikit-learn.org/stable/modules/linear_model.html#logistic-regression\n",
      "  n_iter_i = _check_optimize_result(\n"
     ]
    }
   ],
   "source": [
    "#Using Logistic Regression\n",
    "model_LR = LogisticRegression()\n",
    "model_LR.fit(X_train,y_train)\n",
    "predictions3 = model_LR.predict(X_test)\n",
    "#Finding the accuracy of the predictions\n",
    "ACCUs = accuracy_score(y_test, predictions3)\n",
    "print('Accuracy:', ACCUs)\n",
    "#Printing the classification report \n",
    "print(classification_report(y_test,predictions3))"
   ]
  },
  {
   "cell_type": "markdown",
   "metadata": {},
   "source": [
    "**Out of the models implemented, XGBoost performs best as it gave the best combination of accuracy and macro F1 score. Therefore, selecting this model for further analysis**"
   ]
  },
  {
   "cell_type": "markdown",
   "metadata": {},
   "source": [
    "## Discussions on model\n",
    "\n",
    "**Plotting to make inferences from our model and discuss the viability**"
   ]
  },
  {
   "cell_type": "code",
   "execution_count": 27,
   "metadata": {},
   "outputs": [
    {
     "data": {
      "text/plain": [
       "Correct      1006\n",
       "Incorrect     681\n",
       "Name: Prediction Class, dtype: int64"
      ]
     },
     "execution_count": 27,
     "metadata": {},
     "output_type": "execute_result"
    }
   ],
   "source": [
    "#Converting our y_test list to a dataframe\n",
    "x = pd.DataFrame(y_test)\n",
    "\n",
    "#Defining new columns\n",
    "x['predictions'] = predictions\n",
    "x['Year'] = small['year']\n",
    "x['claimant'] = small['claimant']\n",
    "x['label_new'] = x['label'].map({0: 'False', 1:'Partly True', 2: 'True'})\n",
    "x['Prediction Class']=['Correct' if x['label'][i]==x['predictions'][i] else 'Incorrect' for i in x.index]\n",
    "\n",
    "#Counting the no. of Correct and Incorrect predictions\n",
    "x['Prediction Class'].value_counts()"
   ]
  },
  {
   "cell_type": "markdown",
   "metadata": {},
   "source": [
    "**a) Plotting to see how good our model worked**"
   ]
  },
  {
   "cell_type": "code",
   "execution_count": 28,
   "metadata": {},
   "outputs": [
    {
     "data": {
      "image/png": "[encoded data removed]",
      "text/plain": [
       "<Figure size 1080x576 with 2 Axes>"
      ]
     },
     "metadata": {
      "needs_background": "light"
     },
     "output_type": "display_data"
    }
   ],
   "source": [
    "#Plotting a bar graph for the validity(label) of the actual claims\n",
    "fig, p=plt.subplots(nrows=1, ncols=2, figsize=(15,8), sharey = True)\n",
    "sns.countplot(x='label_new',data=x,ax=p[0])\n",
    "#Setting the title\n",
    "p[0].set_title('Actual Claims', fontsize = 17)\n",
    "#Setting the x-label\n",
    "p[0].set_xlabel('Claims Classification', fontsize = 17)\n",
    "#Setting the y-label\n",
    "p[0].set_ylabel('Claims Count', fontsize = 17)\n",
    "p[0].tick_params(axis='both', which='major', labelsize=15)\n",
    "\n",
    "#Plotting a bargraph for the predicted claims and their accuracy\n",
    "sns.countplot(x='label_new',data=x,hue='Prediction Class',ax=p[1])\n",
    "#Setting the title\n",
    "p[1].set_title('Claims Predicted by the model', fontsize = 17)\n",
    "#Setting the x-label\n",
    "p[1].set_xlabel('Claims Classification', fontsize = 17)\n",
    "#Setting the y-label\n",
    "p[1].set_ylabel('Claims Count', fontsize = 17)\n",
    "p[1].tick_params(axis='both', which='major', labelsize=15)\n",
    "p[1].legend(fontsize=15)\n",
    "\n",
    "plt.show()"
   ]
  },
  {
   "cell_type": "markdown",
   "metadata": {},
   "source": [
    "**From the plot it can be inferred that the model correctly predicted the false claims better than the others as the data for false claims is more as compared to that of the true or partly true claims**\n",
    "\n",
    "**And with more/equivalent number of datapoints for the other two categories, our model can predict classes more accurately**"
   ]
  },
  {
   "cell_type": "markdown",
   "metadata": {},
   "source": [
    "**b) Plotting for count of claims distributed over the years**"
   ]
  },
  {
   "cell_type": "code",
   "execution_count": 29,
   "metadata": {},
   "outputs": [
    {
     "data": {
      "image/png": "[encoded data removed]",
      "text/plain": [
       "<Figure size 936x432 with 1 Axes>"
      ]
     },
     "metadata": {
      "needs_background": "light"
     },
     "output_type": "display_data"
    }
   ],
   "source": [
    "plt.figure(figsize=(13,6))\n",
    "#Plotting a graph for no of claims made by Donald Trump over the years and their validity(label)\n",
    "sns.countplot(x='Year',data=x,hue='label_new')\n",
    "#Setting the title\n",
    "plt.title('Year-wise Claims Classification', fontsize=18)\n",
    "plt.legend(loc = 2, fontsize=12)\n",
    "#Setting the x-label\n",
    "plt.xlabel('Year',fontsize=15)\n",
    "plt.xticks(fontsize=13)\n",
    "#Setting the y-label\n",
    "plt.ylabel('Claims Count',fontsize=15)\n",
    "plt.yticks(fontsize=13)\n",
    "#Displaying the graph\n",
    "plt.show()"
   ]
  },
  {
   "cell_type": "markdown",
   "metadata": {},
   "source": [
    "**The plot shows the collective number of false, partly true, true claims made by Donald Trump, Hillary Clinton and Barack Obama each year. It can be inferred that collectively they made mostly false claims and the peak was around the time of USA 2016 elections**\n",
    "\n",
    "**Let's explore further on the Correct Predictions of our testing dataset**"
   ]
  },
  {
   "cell_type": "markdown",
   "metadata": {},
   "source": [
    "**a) Plotting distribution of claims for the three politicians**"
   ]
  },
  {
   "cell_type": "code",
   "execution_count": 30,
   "metadata": {},
   "outputs": [
    {
     "data": {
      "image/png": "[encoded data removed]",
      "text/plain": [
       "<Figure size 864x504 with 1 Axes>"
      ]
     },
     "metadata": {
      "needs_background": "light"
     },
     "output_type": "display_data"
    }
   ],
   "source": [
    "plt.figure(figsize=(12,7))\n",
    "ax = sns.countplot(x=\"claimant\", data=x[x['Prediction Class']=='Correct'], hue='label_new')\n",
    "plt.xlabel('Claimant',fontsize=15)\n",
    "plt.xticks(fontsize=13)\n",
    "plt.ylabel('Claims Count (Predicted Correctly)',fontsize=15)\n",
    "plt.yticks(fontsize=13)\n",
    "plt.title(\"Distribution of Claims for the Three US Politicians\", fontsize=16)\n",
    "plt.legend(fontsize=15)\n",
    "plt.show()"
   ]
  },
  {
   "cell_type": "markdown",
   "metadata": {},
   "source": [
    "**The model has correctly predicted the above count of claims made by the politicians**\n",
    "\n",
    "**It can be observed that the highest count is of false claims made by Donald Trump**\n",
    "\n",
    "**b) Plotting distribution of false claims made by Donald Trump over the years**"
   ]
  },
  {
   "cell_type": "code",
   "execution_count": 31,
   "metadata": {},
   "outputs": [
    {
     "data": {
      "image/png": "[encoded data removed]",
      "text/plain": [
       "<Figure size 864x504 with 1 Axes>"
      ]
     },
     "metadata": {
      "needs_background": "light"
     },
     "output_type": "display_data"
    }
   ],
   "source": [
    "plt.figure(figsize=(12,7))\n",
    "ax = sns.countplot(x=\"Year\", data=x[(x['Prediction Class']=='Correct') & (x['claimant']=='Donald Trump') & (x['label_new']=='False')])\n",
    "plt.xlabel('Years',fontsize=16)\n",
    "plt.xticks(fontsize=14)\n",
    "plt.ylabel('False Claims Count of Donald Trump',fontsize=16)\n",
    "plt.yticks(fontsize=14)\n",
    "plt.title(\"Correctly Predicted False Claims made by Donald Trump over the years\", fontsize=18)\n",
    "plt.show()"
   ]
  },
  {
   "cell_type": "markdown",
   "metadata": {},
   "source": [
    "**It can be inferred that the count of false claims by Donald Trump increased exponentially until 2016 after which he came to power. Even after coming to power, he carried out the same philosophy and kept on making false claims**\n",
    "\n",
    "**This shows that since his ideology of making false claims worked for the better for him during the elections, he didn't stop it and relied on the same to influence the American society**"
   ]
  },
  {
   "cell_type": "markdown",
   "metadata": {},
   "source": [
    "**Here are some of the examples of false claims made by Donald Trump after he became President. These claims were correctly predicted by the model as false**"
   ]
  },
  {
   "cell_type": "code",
   "execution_count": 32,
   "metadata": {},
   "outputs": [
    {
     "name": "stdout",
     "output_type": "stream",
     "text": [
      "The claim made -   “In fact the GDP since I’ve taken over has doubled and tripled.”  \n",
      "\n",
      "Details of the claim -\n",
      " label                          0\n",
      "predictions                    1\n",
      "Year                        2018\n",
      "claimant            Donald Trump\n",
      "label_new                  False\n",
      "Prediction Class       Incorrect\n",
      "Name: 3445, dtype: object\n"
     ]
    }
   ],
   "source": [
    "print (\"The claim made - \",claims_pd.loc[3445].claim, \"\\n\\nDetails of the claim -\\n\",x.loc[3445])"
   ]
  },
  {
   "cell_type": "markdown",
   "metadata": {},
   "source": [
    "#### This is a wild exaggeration. U.S. gross domestic product grew by 2.3 per cent in 2017. It grew by 2 per cent in the first quarter of 2018.\n",
    "\n",
    "Source: https://projects.thestar.com/donald-trump-fact-check/"
   ]
  },
  {
   "cell_type": "code",
   "execution_count": 33,
   "metadata": {},
   "outputs": [
    {
     "name": "stdout",
     "output_type": "stream",
     "text": [
      "The claim made -   \"I don’t know if you noticed, but deficits seem to be coming down.\"  \n",
      "\n",
      "Details of the claim -\n",
      " label                          0\n",
      "predictions                    1\n",
      "Year                        2019\n",
      "claimant            Donald Trump\n",
      "label_new                  False\n",
      "Prediction Class       Incorrect\n",
      "Name: 7825, dtype: object\n"
     ]
    }
   ],
   "source": [
    "print (\"The claim made - \",claims_pd.loc[7825].claim, \"\\n\\nDetails of the claim -\\n\", x.loc[7825])"
   ]
  },
  {
   "cell_type": "markdown",
   "metadata": {},
   "source": [
    "#### In fact, the deficit in the first three months of fiscal year 2019 was 42 percent higher than it was for the same period last year.\n",
    "\n",
    "Source: https://www.factcheck.org/2019/02/trump-disinformation-on-deficits/"
   ]
  },
  {
   "cell_type": "markdown",
   "metadata": {},
   "source": [
    "**c) Plotting confusion matrix heatmap of our model**"
   ]
  },
  {
   "cell_type": "code",
   "execution_count": 34,
   "metadata": {},
   "outputs": [
    {
     "data": {
      "image/png": "[encoded data removed]",
      "text/plain": [
       "<Figure size 576x432 with 2 Axes>"
      ]
     },
     "metadata": {
      "needs_background": "light"
     },
     "output_type": "display_data"
    }
   ],
   "source": [
    "#https://stackoverflow.com/questions/19233771/sklearn-plot-confusion-matrix-with-labels/48018785\n",
    "#Plotting a confusion matrix for the Actual vs Predicted labels\n",
    "plt.figure(figsize=(8,6))\n",
    "labels = ['False', 'Partly True', 'True']\n",
    "cm = confusion_matrix(y_test, predictions)\n",
    "ax= plt.subplot()\n",
    "sns.heatmap(cm, annot=True, annot_kws={\"size\": 16},fmt='g',cmap='Reds') #annot=True to annotate cells\n",
    "#Setting the x-label\n",
    "ax.set_xlabel('Predicted labels',fontsize=12)\n",
    "#Setting the y-label\n",
    "ax.set_ylabel('True label',fontsize=14)\n",
    "#Setting the title\n",
    "ax.set_title('Confusion Matrix',fontsize=14) \n",
    "ax.set_xticklabels(labels)\n",
    "ax.set_yticklabels(labels)\n",
    "#Displaying the matrix\n",
    "plt.show()"
   ]
  },
  {
   "cell_type": "markdown",
   "metadata": {},
   "source": [
    "**From the confusion matrix heatmap, we can determine that our model works quite good for False claims. This emphasizes the need of more datapoints for the other two categories to build a model upon**"
   ]
  },
  {
   "cell_type": "markdown",
   "metadata": {},
   "source": [
    "## Cosine Similarity Implementation with text summarization"
   ]
  },
  {
   "cell_type": "markdown",
   "metadata": {},
   "source": [
    "The part for concatinating and cleaning of the articles is taking a lot of time as we are directly performing the text preprocessing on the full article, to speed up the process we can just take the top 5 sentences having the highest cosine similarity with the claim. After we get the top 5 sentences then we preprocess those to get the clean article column. Part for cleaning the claims is same as before. Articles, claims and claimants are vectorized together and then split for model implementation. But here I will only show XGBoost model as it performed the best among all the models implemented."
   ]
  },
  {
   "cell_type": "code",
   "execution_count": 35,
   "metadata": {},
   "outputs": [],
   "source": [
    "# Defining a new function to concatenate and select top 5 important sentences in the articles\n",
    "\n",
    "def imp_data(ind):\n",
    "    concat_article = []\n",
    "    \n",
    "    for i in range(len(claims.iloc[ind, -2])):\n",
    "        article_number = claims.iloc[ind, -2][i]\n",
    "        with open(os.path.join(ARTICLES_FILEPATH, '%d.txt' % article_number), 'r', encoding=\"utf8\") as f:\n",
    "            a = f.read()\n",
    "        concat_article.append(a)\n",
    "    new = []\n",
    "    for a in range(len(concat_article)):\n",
    "        sp = concat_article[a].split('\\n')\n",
    "        new.append(sp)\n",
    "\n",
    "    sentences = sent_tokenize(str(new))\n",
    "\n",
    "    # append claim to articles\n",
    "    sentences.append(claims.iloc[ind, 0])\n",
    "\n",
    "    # vectorize sentences based on tf-idf\n",
    "    vectorizer = TfidfVectorizer()\n",
    "    X = vectorizer.fit_transform(sentences)\n",
    "\n",
    "    # measure similarity between claim and each sentence\n",
    "    if X.shape[0] == 2:\n",
    "        similarity = cosine_similarity(X[1], X[0]) \n",
    "    else:\n",
    "        similarity = cosine_similarity(X[-1], X[:-2])\n",
    "\n",
    "    # find top 5 sentences with greatest similarity\n",
    "    sorted_index = np.argsort(similarity)[0][::-1]\n",
    "    top_sentences = []\n",
    "    for i in range(0,min(5, len(sorted_index))):\n",
    "        top_sentences.append(sentences[sorted_index[i]])\n",
    "    \n",
    "    return(' '.join(top_sentences))"
   ]
  },
  {
   "cell_type": "code",
   "execution_count": 36,
   "metadata": {},
   "outputs": [
    {
     "name": "stdout",
     "output_type": "stream",
     "text": [
      "Execution time for concatinating and summarizing the articles =  294.30055713653564\n"
     ]
    }
   ],
   "source": [
    "#Applying the above function to our dataframe\n",
    "start = time.time()\n",
    "important_sentences = [imp_data(i) for i in range(len(claims))]\n",
    "print('Execution time for concatinating and summarizing the articles = ', time.time()-start)"
   ]
  },
  {
   "cell_type": "code",
   "execution_count": 37,
   "metadata": {},
   "outputs": [],
   "source": [
    "# Defining a function to clean the articles\n",
    "\n",
    "def clean_data(new):\n",
    "    \n",
    "    table = str.maketrans(string.punctuation, ' '*len(string.punctuation)) #map punctuation to space\n",
    "    stripped = new.translate(table)\n",
    "    tokens = stripped.lower().split()\n",
    "    \n",
    "    words = [word for word in tokens if word.isalpha()]\n",
    "    stop_words = set(stopwords.words('english'))\n",
    "    words = list(filter(lambda x: x not in stop_words, words))\n",
    "            \n",
    "    stemmatizer = SnowballStemmer('english')\n",
    "    stemmatized = [stemmatizer.stem(word) for word in words]\n",
    "    return(' '.join(stemmatized))"
   ]
  },
  {
   "cell_type": "code",
   "execution_count": 38,
   "metadata": {},
   "outputs": [
    {
     "name": "stdout",
     "output_type": "stream",
     "text": [
      "Execution time for cleaning the articles =  22.572611093521118\n"
     ]
    }
   ],
   "source": [
    "#Applying the above function to our important sentences\n",
    "start = time.time()\n",
    "clean_articles = [clean_data(important_sentences[i]) for i in range(len(claims))]\n",
    "print('Execution time for cleaning the articles = ', time.time()-start)"
   ]
  },
  {
   "cell_type": "code",
   "execution_count": 39,
   "metadata": {},
   "outputs": [
    {
     "name": "stdout",
     "output_type": "stream",
     "text": [
      "Execution time for cleaning the claims =  7.119403600692749\n"
     ]
    }
   ],
   "source": [
    "#Applying the above function to our claims\n",
    "start = time.time()\n",
    "clean_articles = [clean_data(claims.iloc[i, 0]) for i in range(len(claims))]\n",
    "print('Execution time for cleaning the claims = ', time.time()-start)"
   ]
  },
  {
   "cell_type": "code",
   "execution_count": 40,
   "metadata": {},
   "outputs": [
    {
     "data": {
      "text/html": [
       "<div>\n",
       "<style scoped>\n",
       "    .dataframe tbody tr th:only-of-type {\n",
       "        vertical-align: middle;\n",
       "    }\n",
       "\n",
       "    .dataframe tbody tr th {\n",
       "        vertical-align: top;\n",
       "    }\n",
       "\n",
       "    .dataframe thead th {\n",
       "        text-align: right;\n",
       "    }\n",
       "</style>\n",
       "<table border=\"1\" class=\"dataframe\">\n",
       "  <thead>\n",
       "    <tr style=\"text-align: right;\">\n",
       "      <th></th>\n",
       "      <th>claim</th>\n",
       "      <th>claimant</th>\n",
       "      <th>date</th>\n",
       "      <th>label</th>\n",
       "      <th>related_articles</th>\n",
       "      <th>id</th>\n",
       "      <th>clean articles</th>\n",
       "      <th>clean claims</th>\n",
       "    </tr>\n",
       "  </thead>\n",
       "  <tbody>\n",
       "    <tr>\n",
       "      <th>0</th>\n",
       "      <td>A line from George Orwell's novel 1984 predict...</td>\n",
       "      <td></td>\n",
       "      <td>2017-07-17</td>\n",
       "      <td>0</td>\n",
       "      <td>[122094, 122580, 130685, 134765]</td>\n",
       "      <td>0</td>\n",
       "      <td>line georg orwel novel predict power smartphon</td>\n",
       "      <td>line georg orwel novel predict power smartphon</td>\n",
       "    </tr>\n",
       "    <tr>\n",
       "      <th>1</th>\n",
       "      <td>Maine legislature candidate Leslie Gibson insu...</td>\n",
       "      <td></td>\n",
       "      <td>2018-03-17</td>\n",
       "      <td>2</td>\n",
       "      <td>[106868, 127320, 128060]</td>\n",
       "      <td>1</td>\n",
       "      <td>main legislatur candid lesli gibson insult par...</td>\n",
       "      <td>main legislatur candid lesli gibson insult par...</td>\n",
       "    </tr>\n",
       "    <tr>\n",
       "      <th>2</th>\n",
       "      <td>A 17-year-old girl named Alyssa Carson is bein...</td>\n",
       "      <td></td>\n",
       "      <td>2018-07-18</td>\n",
       "      <td>1</td>\n",
       "      <td>[132130, 132132, 149722]</td>\n",
       "      <td>4</td>\n",
       "      <td>year old girl name alyssa carson train nasa be...</td>\n",
       "      <td>year old girl name alyssa carson train nasa be...</td>\n",
       "    </tr>\n",
       "    <tr>\n",
       "      <th>3</th>\n",
       "      <td>In 1988 author Roald Dahl penned an open lette...</td>\n",
       "      <td></td>\n",
       "      <td>2019-02-04</td>\n",
       "      <td>2</td>\n",
       "      <td>[123254, 123418, 127464]</td>\n",
       "      <td>5</td>\n",
       "      <td>author roald dahl pen open letter urg parent c...</td>\n",
       "      <td>author roald dahl pen open letter urg parent c...</td>\n",
       "    </tr>\n",
       "    <tr>\n",
       "      <th>4</th>\n",
       "      <td>When it comes to fighting terrorism, \"Another ...</td>\n",
       "      <td>Hillary Clinton</td>\n",
       "      <td>2016-03-22</td>\n",
       "      <td>2</td>\n",
       "      <td>[41099, 89899, 72543, 82644, 95344, 88361]</td>\n",
       "      <td>6</td>\n",
       "      <td>come fight terror anoth thing know work base l...</td>\n",
       "      <td>come fight terror anoth thing know work base l...</td>\n",
       "    </tr>\n",
       "  </tbody>\n",
       "</table>\n",
       "</div>"
      ],
      "text/plain": [
       "                                               claim         claimant  \\\n",
       "0  A line from George Orwell's novel 1984 predict...                    \n",
       "1  Maine legislature candidate Leslie Gibson insu...                    \n",
       "2  A 17-year-old girl named Alyssa Carson is bein...                    \n",
       "3  In 1988 author Roald Dahl penned an open lette...                    \n",
       "4  When it comes to fighting terrorism, \"Another ...  Hillary Clinton   \n",
       "\n",
       "         date  label                            related_articles  id  \\\n",
       "0  2017-07-17      0            [122094, 122580, 130685, 134765]   0   \n",
       "1  2018-03-17      2                    [106868, 127320, 128060]   1   \n",
       "2  2018-07-18      1                    [132130, 132132, 149722]   4   \n",
       "3  2019-02-04      2                    [123254, 123418, 127464]   5   \n",
       "4  2016-03-22      2  [41099, 89899, 72543, 82644, 95344, 88361]   6   \n",
       "\n",
       "                                      clean articles  \\\n",
       "0     line georg orwel novel predict power smartphon   \n",
       "1  main legislatur candid lesli gibson insult par...   \n",
       "2  year old girl name alyssa carson train nasa be...   \n",
       "3  author roald dahl pen open letter urg parent c...   \n",
       "4  come fight terror anoth thing know work base l...   \n",
       "\n",
       "                                        clean claims  \n",
       "0     line georg orwel novel predict power smartphon  \n",
       "1  main legislatur candid lesli gibson insult par...  \n",
       "2  year old girl name alyssa carson train nasa be...  \n",
       "3  author roald dahl pen open letter urg parent c...  \n",
       "4  come fight terror anoth thing know work base l...  "
      ]
     },
     "execution_count": 40,
     "metadata": {},
     "output_type": "execute_result"
    }
   ],
   "source": [
    "#Adding our cleaned claims and cleaned articles to the orignal dataframe\n",
    "claims['clean articles'] = clean_articles\n",
    "claims['clean claims'] = clean_claims\n",
    "\n",
    "claims.head()"
   ]
  },
  {
   "cell_type": "markdown",
   "metadata": {},
   "source": [
    "### Vectorizing claims, articles, claimants"
   ]
  },
  {
   "cell_type": "code",
   "execution_count": 41,
   "metadata": {},
   "outputs": [],
   "source": [
    "y = claims['label']\n",
    "X_train, X_test, y_train, y_test = train_test_split(claims[['clean claims', 'clean articles', 'claimant']], y, \n",
    "                                                    random_state=0, test_size=0.3, stratify = y)"
   ]
  },
  {
   "cell_type": "code",
   "execution_count": 42,
   "metadata": {
    "scrolled": true
   },
   "outputs": [],
   "source": [
    "#Using the Tfidf Vectorizer on the claims, articles, claimants\n",
    "\n",
    "vectorizer = TfidfVectorizer(use_idf=True, smooth_idf=True, norm='l2')\n",
    "vectorizer1 = TfidfVectorizer(use_idf=True, smooth_idf=True, norm='l2')\n",
    "vectorizer2 = TfidfVectorizer(use_idf=True, smooth_idf=True, norm='l2')\n",
    "\n",
    "vectorizer.fit(X_train['clean claims'])#.values.astype('U'))\n",
    "vectorizer1.fit(X_train['clean articles'])#.values.astype('U'))\n",
    "vectorizer2.fit(X_train['claimant'])#.values.astype('U'))\n",
    "\n",
    "X1 = vectorizer.transform(X_train['clean claims'])#.values.astype('U'))\n",
    "X2 = vectorizer1.transform(X_train['clean articles'])#.values.astype('U'))\n",
    "X3 = vectorizer2.transform(X_train['claimant'])#.values.astype('U'))\n",
    "X_model_train = hstack((X1, X2, X3))"
   ]
  },
  {
   "cell_type": "code",
   "execution_count": 43,
   "metadata": {},
   "outputs": [],
   "source": [
    "X1_test = vectorizer.transform(X_test['clean claims'])\n",
    "X2_test = vectorizer1.transform(X_test['clean articles'])\n",
    "X3_test = vectorizer2.transform(X_test['claimant'])\n",
    "X_model_test = hstack((X1_test, X2_test, X3_test))"
   ]
  },
  {
   "cell_type": "markdown",
   "metadata": {},
   "source": [
    "### Model Implementation"
   ]
  },
  {
   "cell_type": "markdown",
   "metadata": {},
   "source": [
    "#### XGBoost"
   ]
  },
  {
   "cell_type": "code",
   "execution_count": 44,
   "metadata": {},
   "outputs": [
    {
     "name": "stderr",
     "output_type": "stream",
     "text": [
      "C:\\Users\\siddh\\anaconda3\\lib\\site-packages\\xgboost\\sklearn.py:1224: UserWarning: The use of label encoder in XGBClassifier is deprecated and will be removed in a future release. To remove this warning, do the following: 1) Pass option use_label_encoder=False when constructing XGBClassifier object; and 2) Encode your labels (y) as integers starting with 0, i.e. 0, 1, 2, ..., [num_class - 1].\n",
      "  warnings.warn(label_encoder_deprecation_msg, UserWarning)\n"
     ]
    },
    {
     "name": "stdout",
     "output_type": "stream",
     "text": [
      "[14:50:09] WARNING: C:/Users/Administrator/workspace/xgboost-win64_release_1.5.1/src/learner.cc:1115: Starting in XGBoost 1.3.0, the default evaluation metric used with the objective 'multi:softprob' was changed from 'merror' to 'mlogloss'. Explicitly set eval_metric if you'd like to restore the old behavior.\n",
      "Accuracy: 0.6087422326976645\n",
      "              precision    recall  f1-score   support\n",
      "\n",
      "           0       0.63      0.74      0.68      2223\n",
      "           1       0.59      0.61      0.60      1935\n",
      "           2       0.38      0.02      0.04       509\n",
      "\n",
      "    accuracy                           0.61      4667\n",
      "   macro avg       0.53      0.46      0.44      4667\n",
      "weighted avg       0.58      0.61      0.58      4667\n",
      "\n"
     ]
    }
   ],
   "source": [
    "xgb = XGBClassifier(random_state = 0)\n",
    "xgb.fit(X_model_train, y_train)\n",
    "predictions = xgb.predict(X_model_test)\n",
    "ACCU = accuracy_score(y_test, predictions)\n",
    "print('Accuracy:', ACCU)\n",
    "print(classification_report(y_test,predictions))"
   ]
  }
 ],
 "metadata": {
  "kernelspec": {
   "display_name": "Python 3",
   "language": "python",
   "name": "python3"
  },
  "language_info": {
   "codemirror_mode": {
    "name": "ipython",
    "version": 3
   },
   "file_extension": ".py",
   "mimetype": "text/x-python",
   "name": "python",
   "nbconvert_exporter": "python",
   "pygments_lexer": "ipython3",
   "version": "3.8.5"
  }
 },
 "nbformat": 4,
 "nbformat_minor": 2
}
