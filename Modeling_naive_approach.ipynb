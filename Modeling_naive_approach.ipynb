{
 "cells": [
  {
   "cell_type": "code",
   "execution_count": 1,
   "metadata": {},
   "outputs": [],
   "source": [
    "import pandas as pd\n",
    "import numpy as np\n",
    "import matplotlib.pyplot as plt\n",
    "import spacy, re, nltk\n",
    "# !pip install imblearn\n",
    "# !pip install delayed\n",
    "from imblearn.ensemble import BalancedRandomForestClassifier\n",
    "#!python -m spacy download en\n",
    "\n",
    "# # For cleaning and processing\n",
    "from sklearn.feature_extraction.text import TfidfVectorizer\n",
    "from nltk import sent_tokenize\n",
    "\n",
    "# # For Modeling and Computing Accuracy\n",
    "from sklearn.ensemble import RandomForestClassifier\n",
    "from sklearn.metrics import f1_score\n",
    "from sklearn.metrics.pairwise import cosine_similarity\n",
    "from sklearn.model_selection import train_test_split\n",
    "from scipy.sparse import hstack"
   ]
  },
  {
   "cell_type": "code",
   "execution_count": 2,
   "metadata": {},
   "outputs": [
    {
     "data": {
      "text/html": [
       "<div>\n",
       "<style scoped>\n",
       "    .dataframe tbody tr th:only-of-type {\n",
       "        vertical-align: middle;\n",
       "    }\n",
       "\n",
       "    .dataframe tbody tr th {\n",
       "        vertical-align: top;\n",
       "    }\n",
       "\n",
       "    .dataframe thead th {\n",
       "        text-align: right;\n",
       "    }\n",
       "</style>\n",
       "<table border=\"1\" class=\"dataframe\">\n",
       "  <thead>\n",
       "    <tr style=\"text-align: right;\">\n",
       "      <th></th>\n",
       "      <th>clean_title</th>\n",
       "      <th>clean_description</th>\n",
       "      <th>category_id</th>\n",
       "    </tr>\n",
       "  </thead>\n",
       "  <tbody>\n",
       "    <tr>\n",
       "      <th>0</th>\n",
       "      <td>polarize sunglass man woman semi rimless frame...</td>\n",
       "      <td>sunglass polarize lense resistant impact scrat...</td>\n",
       "      <td>44</td>\n",
       "    </tr>\n",
       "    <tr>\n",
       "      <th>1</th>\n",
       "      <td>sorvino vintage sunglass retro cateye sunglass...</td>\n",
       "      <td>high quality material gradient cat eye sunglas...</td>\n",
       "      <td>44</td>\n",
       "    </tr>\n",
       "    <tr>\n",
       "      <th>2</th>\n",
       "      <td>armour women launch visor</td>\n",
       "      <td>mission athlete passion design relentless purs...</td>\n",
       "      <td>44</td>\n",
       "    </tr>\n",
       "    <tr>\n",
       "      <th>3</th>\n",
       "      <td>grfisia square oversized sunglass woman man fl...</td>\n",
       "      <td>sunglasse soft microfiber pouch soft glass clo...</td>\n",
       "      <td>44</td>\n",
       "    </tr>\n",
       "    <tr>\n",
       "      <th>4</th>\n",
       "      <td>feisedy retro oversized square polarize sungla...</td>\n",
       "      <td>feisedy retro design square oversized frame de...</td>\n",
       "      <td>44</td>\n",
       "    </tr>\n",
       "    <tr>\n",
       "      <th>...</th>\n",
       "      <td>...</td>\n",
       "      <td>...</td>\n",
       "      <td>...</td>\n",
       "    </tr>\n",
       "    <tr>\n",
       "      <th>253923</th>\n",
       "      <td>aw bridal cotton waffle robe couple spa robe k...</td>\n",
       "      <td>aw cotton couple robe set amp amp king amp que...</td>\n",
       "      <td>310</td>\n",
       "    </tr>\n",
       "    <tr>\n",
       "      <th>253924</th>\n",
       "      <td>avidlove woman lace kimono robe babydoll sexy ...</td>\n",
       "      <td>size want looser long fit kimono small woman s...</td>\n",
       "      <td>310</td>\n",
       "    </tr>\n",
       "    <tr>\n",
       "      <th>253925</th>\n",
       "      <td>pavilia women fleece housecoat zipper robe plu...</td>\n",
       "      <td>product description nbsp pavilia fleece house ...</td>\n",
       "      <td>310</td>\n",
       "    </tr>\n",
       "    <tr>\n",
       "      <th>253926</th>\n",
       "      <td>silky satin robe woman pure lightweight short ...</td>\n",
       "      <td>silk tie closure machine wash polyester tie cl...</td>\n",
       "      <td>310</td>\n",
       "    </tr>\n",
       "    <tr>\n",
       "      <th>253927</th>\n",
       "      <td>woman bride bridesmaid robe silky dusty blue k...</td>\n",
       "      <td>sleepwear lounge wear bathrobe bridal robe won...</td>\n",
       "      <td>310</td>\n",
       "    </tr>\n",
       "  </tbody>\n",
       "</table>\n",
       "<p>252937 rows × 3 columns</p>\n",
       "</div>"
      ],
      "text/plain": [
       "                                              clean_title  \\\n",
       "0       polarize sunglass man woman semi rimless frame...   \n",
       "1       sorvino vintage sunglass retro cateye sunglass...   \n",
       "2                               armour women launch visor   \n",
       "3       grfisia square oversized sunglass woman man fl...   \n",
       "4       feisedy retro oversized square polarize sungla...   \n",
       "...                                                   ...   \n",
       "253923  aw bridal cotton waffle robe couple spa robe k...   \n",
       "253924  avidlove woman lace kimono robe babydoll sexy ...   \n",
       "253925  pavilia women fleece housecoat zipper robe plu...   \n",
       "253926  silky satin robe woman pure lightweight short ...   \n",
       "253927  woman bride bridesmaid robe silky dusty blue k...   \n",
       "\n",
       "                                        clean_description  category_id  \n",
       "0       sunglass polarize lense resistant impact scrat...           44  \n",
       "1       high quality material gradient cat eye sunglas...           44  \n",
       "2       mission athlete passion design relentless purs...           44  \n",
       "3       sunglasse soft microfiber pouch soft glass clo...           44  \n",
       "4       feisedy retro design square oversized frame de...           44  \n",
       "...                                                   ...          ...  \n",
       "253923  aw cotton couple robe set amp amp king amp que...          310  \n",
       "253924  size want looser long fit kimono small woman s...          310  \n",
       "253925  product description nbsp pavilia fleece house ...          310  \n",
       "253926  silk tie closure machine wash polyester tie cl...          310  \n",
       "253927  sleepwear lounge wear bathrobe bridal robe won...          310  \n",
       "\n",
       "[252937 rows x 3 columns]"
      ]
     },
     "execution_count": 2,
     "metadata": {},
     "output_type": "execute_result"
    }
   ],
   "source": [
    "df_original = pd.read_csv('Clean_product_data.csv', index_col = 0)\n",
    "df_original"
   ]
  },
  {
   "cell_type": "markdown",
   "metadata": {},
   "source": [
    "### Data Exploration"
   ]
  },
  {
   "cell_type": "code",
   "execution_count": 3,
   "metadata": {},
   "outputs": [
    {
     "data": {
      "text/plain": [
       "293    1200\n",
       "262    1200\n",
       "96     1200\n",
       "99     1199\n",
       "14     1198\n",
       "       ... \n",
       "230      47\n",
       "225      47\n",
       "224      44\n",
       "288      42\n",
       "258      40\n",
       "Name: category_id, Length: 243, dtype: int64"
      ]
     },
     "execution_count": 3,
     "metadata": {},
     "output_type": "execute_result"
    }
   ],
   "source": [
    "#Checking the value counts of the category ids\n",
    "df_original.category_id.value_counts()"
   ]
  },
  {
   "cell_type": "markdown",
   "metadata": {},
   "source": [
    "Seems like we have 252937 records and 243 categories and some of the category ids have very less records making it an unbalanced data set."
   ]
  },
  {
   "cell_type": "code",
   "execution_count": 4,
   "metadata": {},
   "outputs": [
    {
     "data": {
      "image/png": "[encoded data removed]",
      "text/plain": [
       "<Figure size 720x432 with 1 Axes>"
      ]
     },
     "metadata": {
      "needs_background": "light"
     },
     "output_type": "display_data"
    }
   ],
   "source": [
    "plt.figure(figsize = (10,6))\n",
    "plt.hist(df_original.category_id.value_counts().values, bins = 30)\n",
    "plt.title('Distribution of count of records corresponding to Category ids')\n",
    "plt.xlabel('Count of records corresponding to Category ids')\n",
    "plt.ylabel('Frequency')\n",
    "plt.show()"
   ]
  },
  {
   "cell_type": "markdown",
   "metadata": {},
   "source": [
    "According to the plot above we can see the distribution is left tailed so we can try to feature engineer categories with less than 600 records in them as we need to make sure to decrease the tail as well as keep around 200 categories."
   ]
  },
  {
   "cell_type": "markdown",
   "metadata": {},
   "source": [
    "### Split the data (to avoid data leakage)"
   ]
  },
  {
   "cell_type": "code",
   "execution_count": 5,
   "metadata": {},
   "outputs": [],
   "source": [
    "X_train, X_test, y_train, y_test = train_test_split(df_original[['clean_title', 'clean_description']], \n",
    "                                                    df_original['category_id'], random_state=0, test_size=0.2, \n",
    "                                                    stratify = df_original['category_id'])"
   ]
  },
  {
   "cell_type": "markdown",
   "metadata": {},
   "source": [
    "### Feature Engineering"
   ]
  },
  {
   "cell_type": "code",
   "execution_count": 6,
   "metadata": {},
   "outputs": [],
   "source": [
    "#Lets get a list of the category ids that have less than 480 records (because the data is split into 80/20)\n",
    "cat_less = y_train.value_counts().index[y_train.value_counts().values < 480]"
   ]
  },
  {
   "cell_type": "code",
   "execution_count": 7,
   "metadata": {
    "scrolled": false
   },
   "outputs": [
    {
     "data": {
      "text/html": [
       "<div>\n",
       "<style scoped>\n",
       "    .dataframe tbody tr th:only-of-type {\n",
       "        vertical-align: middle;\n",
       "    }\n",
       "\n",
       "    .dataframe tbody tr th {\n",
       "        vertical-align: top;\n",
       "    }\n",
       "\n",
       "    .dataframe thead th {\n",
       "        text-align: right;\n",
       "    }\n",
       "</style>\n",
       "<table border=\"1\" class=\"dataframe\">\n",
       "  <thead>\n",
       "    <tr style=\"text-align: right;\">\n",
       "      <th></th>\n",
       "      <th>clean_title</th>\n",
       "      <th>clean_description</th>\n",
       "    </tr>\n",
       "  </thead>\n",
       "  <tbody>\n",
       "    <tr>\n",
       "      <th>238510</th>\n",
       "      <td>cycle jersey woman short sleeve top shirt ride...</td>\n",
       "      <td>product description product detail jpojpo cycl...</td>\n",
       "    </tr>\n",
       "    <tr>\n",
       "      <th>231915</th>\n",
       "      <td>woman casual summer dress neck floral spaghett...</td>\n",
       "      <td>size dress dress women size dress closure woma...</td>\n",
       "    </tr>\n",
       "    <tr>\n",
       "      <th>245505</th>\n",
       "      <td>woman sport short sleeve short paragraph slim ...</td>\n",
       "      <td>fabric polyurethane comfortable breathable swe...</td>\n",
       "    </tr>\n",
       "    <tr>\n",
       "      <th>189239</th>\n",
       "      <td>kingshow man warm waterproof winter snow leath...</td>\n",
       "      <td>rubber sole shaft measure ankle high arch prem...</td>\n",
       "    </tr>\n",
       "    <tr>\n",
       "      <th>200728</th>\n",
       "      <td>women wide leg cuff hot pant high waiste vinta...</td>\n",
       "      <td>fashion jean short wardrobe hot summer short f...</td>\n",
       "    </tr>\n",
       "    <tr>\n",
       "      <th>...</th>\n",
       "      <td>...</td>\n",
       "      <td>...</td>\n",
       "    </tr>\n",
       "    <tr>\n",
       "      <th>126937</th>\n",
       "      <td>woman black swarovski handmade jooti designer ...</td>\n",
       "      <td>material fabric amp foam lifestyle ethnic trad...</td>\n",
       "    </tr>\n",
       "    <tr>\n",
       "      <th>231789</th>\n",
       "      <td>lucktop woman summer midi dress printing neck ...</td>\n",
       "      <td>spring dress dress women spring dress closure ...</td>\n",
       "    </tr>\n",
       "    <tr>\n",
       "      <th>195542</th>\n",
       "      <td>skecher man nampa groton food service shoe</td>\n",
       "      <td>leather synthetic rubber sole shaft measure lo...</td>\n",
       "    </tr>\n",
       "    <tr>\n",
       "      <th>127196</th>\n",
       "      <td>kalra creation jutti indian woman traditional ...</td>\n",
       "      <td>faux leather sequence work leather sole india ...</td>\n",
       "    </tr>\n",
       "    <tr>\n",
       "      <th>188487</th>\n",
       "      <td>kodiak man magog fashion boot</td>\n",
       "      <td>spirit kodiak boot man woman push product desc...</td>\n",
       "    </tr>\n",
       "  </tbody>\n",
       "</table>\n",
       "<p>6059 rows × 2 columns</p>\n",
       "</div>"
      ],
      "text/plain": [
       "                                              clean_title  \\\n",
       "238510  cycle jersey woman short sleeve top shirt ride...   \n",
       "231915  woman casual summer dress neck floral spaghett...   \n",
       "245505  woman sport short sleeve short paragraph slim ...   \n",
       "189239  kingshow man warm waterproof winter snow leath...   \n",
       "200728  women wide leg cuff hot pant high waiste vinta...   \n",
       "...                                                   ...   \n",
       "126937  woman black swarovski handmade jooti designer ...   \n",
       "231789  lucktop woman summer midi dress printing neck ...   \n",
       "195542         skecher man nampa groton food service shoe   \n",
       "127196  kalra creation jutti indian woman traditional ...   \n",
       "188487                      kodiak man magog fashion boot   \n",
       "\n",
       "                                        clean_description  \n",
       "238510  product description product detail jpojpo cycl...  \n",
       "231915  size dress dress women size dress closure woma...  \n",
       "245505  fabric polyurethane comfortable breathable swe...  \n",
       "189239  rubber sole shaft measure ankle high arch prem...  \n",
       "200728  fashion jean short wardrobe hot summer short f...  \n",
       "...                                                   ...  \n",
       "126937  material fabric amp foam lifestyle ethnic trad...  \n",
       "231789  spring dress dress women spring dress closure ...  \n",
       "195542  leather synthetic rubber sole shaft measure lo...  \n",
       "127196  faux leather sequence work leather sole india ...  \n",
       "188487  spirit kodiak boot man woman push product desc...  \n",
       "\n",
       "[6059 rows x 2 columns]"
      ]
     },
     "execution_count": 7,
     "metadata": {},
     "output_type": "execute_result"
    }
   ],
   "source": [
    "df_feature_engineer = X_train.loc[y_train[y_train.isin(cat_less)].index]\n",
    "df_feature_engineer"
   ]
  },
  {
   "cell_type": "code",
   "execution_count": 8,
   "metadata": {},
   "outputs": [],
   "source": [
    "nlp = spacy.load('en_core_web_sm')"
   ]
  },
  {
   "cell_type": "code",
   "execution_count": 9,
   "metadata": {},
   "outputs": [
    {
     "data": {
      "text/html": [
       "<div>\n",
       "<style scoped>\n",
       "    .dataframe tbody tr th:only-of-type {\n",
       "        vertical-align: middle;\n",
       "    }\n",
       "\n",
       "    .dataframe tbody tr th {\n",
       "        vertical-align: top;\n",
       "    }\n",
       "\n",
       "    .dataframe thead th {\n",
       "        text-align: right;\n",
       "    }\n",
       "</style>\n",
       "<table border=\"1\" class=\"dataframe\">\n",
       "  <thead>\n",
       "    <tr style=\"text-align: right;\">\n",
       "      <th></th>\n",
       "      <th>clean_title</th>\n",
       "      <th>clean_description</th>\n",
       "      <th>title_keywords</th>\n",
       "    </tr>\n",
       "  </thead>\n",
       "  <tbody>\n",
       "    <tr>\n",
       "      <th>238510</th>\n",
       "      <td>cycle jersey woman short sleeve top shirt ride...</td>\n",
       "      <td>product description product detail jpojpo cycl...</td>\n",
       "      <td>cycle jersey woman sleeve shirt ride bike bike...</td>\n",
       "    </tr>\n",
       "    <tr>\n",
       "      <th>231915</th>\n",
       "      <td>woman casual summer dress neck floral spaghett...</td>\n",
       "      <td>size dress dress women size dress closure woma...</td>\n",
       "      <td>woman summer dress neck spaghetti strap ruffle...</td>\n",
       "    </tr>\n",
       "    <tr>\n",
       "      <th>245505</th>\n",
       "      <td>woman sport short sleeve short paragraph slim ...</td>\n",
       "      <td>fabric polyurethane comfortable breathable swe...</td>\n",
       "      <td>woman sport sleeve paragraph yoga clothe suck ...</td>\n",
       "    </tr>\n",
       "    <tr>\n",
       "      <th>189239</th>\n",
       "      <td>kingshow man warm waterproof winter snow leath...</td>\n",
       "      <td>rubber sole shaft measure ankle high arch prem...</td>\n",
       "      <td>man winter snow leather boot color size</td>\n",
       "    </tr>\n",
       "    <tr>\n",
       "      <th>200728</th>\n",
       "      <td>women wide leg cuff hot pant high waiste vinta...</td>\n",
       "      <td>fashion jean short wardrobe hot summer short f...</td>\n",
       "      <td>women leg cuff waiste vintage denim stretchy r...</td>\n",
       "    </tr>\n",
       "    <tr>\n",
       "      <th>...</th>\n",
       "      <td>...</td>\n",
       "      <td>...</td>\n",
       "      <td>...</td>\n",
       "    </tr>\n",
       "    <tr>\n",
       "      <th>126937</th>\n",
       "      <td>woman black swarovski handmade jooti designer ...</td>\n",
       "      <td>material fabric amp foam lifestyle ethnic trad...</td>\n",
       "      <td>woman handmade jooti designer punjabi jutti mo...</td>\n",
       "    </tr>\n",
       "    <tr>\n",
       "      <th>231789</th>\n",
       "      <td>lucktop woman summer midi dress printing neck ...</td>\n",
       "      <td>spring dress dress women spring dress closure ...</td>\n",
       "      <td>woman summer dress printing neck flowy swing s...</td>\n",
       "    </tr>\n",
       "    <tr>\n",
       "      <th>195542</th>\n",
       "      <td>skecher man nampa groton food service shoe</td>\n",
       "      <td>leather synthetic rubber sole shaft measure lo...</td>\n",
       "      <td>skecher man nampa groton food service shoe</td>\n",
       "    </tr>\n",
       "    <tr>\n",
       "      <th>127196</th>\n",
       "      <td>kalra creation jutti indian woman traditional ...</td>\n",
       "      <td>faux leather sequence work leather sole india ...</td>\n",
       "      <td>creation jutti woman leather sequence shoe</td>\n",
       "    </tr>\n",
       "    <tr>\n",
       "      <th>188487</th>\n",
       "      <td>kodiak man magog fashion boot</td>\n",
       "      <td>spirit kodiak boot man woman push product desc...</td>\n",
       "      <td>kodiak man magog fashion boot</td>\n",
       "    </tr>\n",
       "  </tbody>\n",
       "</table>\n",
       "<p>6059 rows × 3 columns</p>\n",
       "</div>"
      ],
      "text/plain": [
       "                                              clean_title  \\\n",
       "238510  cycle jersey woman short sleeve top shirt ride...   \n",
       "231915  woman casual summer dress neck floral spaghett...   \n",
       "245505  woman sport short sleeve short paragraph slim ...   \n",
       "189239  kingshow man warm waterproof winter snow leath...   \n",
       "200728  women wide leg cuff hot pant high waiste vinta...   \n",
       "...                                                   ...   \n",
       "126937  woman black swarovski handmade jooti designer ...   \n",
       "231789  lucktop woman summer midi dress printing neck ...   \n",
       "195542         skecher man nampa groton food service shoe   \n",
       "127196  kalra creation jutti indian woman traditional ...   \n",
       "188487                      kodiak man magog fashion boot   \n",
       "\n",
       "                                        clean_description  \\\n",
       "238510  product description product detail jpojpo cycl...   \n",
       "231915  size dress dress women size dress closure woma...   \n",
       "245505  fabric polyurethane comfortable breathable swe...   \n",
       "189239  rubber sole shaft measure ankle high arch prem...   \n",
       "200728  fashion jean short wardrobe hot summer short f...   \n",
       "...                                                   ...   \n",
       "126937  material fabric amp foam lifestyle ethnic trad...   \n",
       "231789  spring dress dress women spring dress closure ...   \n",
       "195542  leather synthetic rubber sole shaft measure lo...   \n",
       "127196  faux leather sequence work leather sole india ...   \n",
       "188487  spirit kodiak boot man woman push product desc...   \n",
       "\n",
       "                                           title_keywords  \n",
       "238510  cycle jersey woman sleeve shirt ride bike bike...  \n",
       "231915  woman summer dress neck spaghetti strap ruffle...  \n",
       "245505  woman sport sleeve paragraph yoga clothe suck ...  \n",
       "189239            man winter snow leather boot color size  \n",
       "200728  women leg cuff waiste vintage denim stretchy r...  \n",
       "...                                                   ...  \n",
       "126937  woman handmade jooti designer punjabi jutti mo...  \n",
       "231789  woman summer dress printing neck flowy swing s...  \n",
       "195542         skecher man nampa groton food service shoe  \n",
       "127196         creation jutti woman leather sequence shoe  \n",
       "188487                      kodiak man magog fashion boot  \n",
       "\n",
       "[6059 rows x 3 columns]"
      ]
     },
     "execution_count": 9,
     "metadata": {},
     "output_type": "execute_result"
    }
   ],
   "source": [
    "#Extracting the keywords from the cleaned titles\n",
    "df_feature_engineer['title_keywords'] = df_feature_engineer['clean_title'].apply(lambda x: \" \".join([ent.text for ent in nlp(x) if ent.pos_ == 'NOUN']))\n",
    "df_feature_engineer"
   ]
  },
  {
   "cell_type": "code",
   "execution_count": 10,
   "metadata": {},
   "outputs": [
    {
     "data": {
      "text/html": [
       "<div>\n",
       "<style scoped>\n",
       "    .dataframe tbody tr th:only-of-type {\n",
       "        vertical-align: middle;\n",
       "    }\n",
       "\n",
       "    .dataframe tbody tr th {\n",
       "        vertical-align: top;\n",
       "    }\n",
       "\n",
       "    .dataframe thead th {\n",
       "        text-align: right;\n",
       "    }\n",
       "</style>\n",
       "<table border=\"1\" class=\"dataframe\">\n",
       "  <thead>\n",
       "    <tr style=\"text-align: right;\">\n",
       "      <th></th>\n",
       "      <th>category_id</th>\n",
       "      <th>title_keywords</th>\n",
       "    </tr>\n",
       "  </thead>\n",
       "  <tbody>\n",
       "    <tr>\n",
       "      <th>0</th>\n",
       "      <td>291</td>\n",
       "      <td>cycle jersey woman sleeve shirt ride bike bike...</td>\n",
       "    </tr>\n",
       "    <tr>\n",
       "      <th>1</th>\n",
       "      <td>282</td>\n",
       "      <td>woman summer dress neck spaghetti strap ruffle...</td>\n",
       "    </tr>\n",
       "    <tr>\n",
       "      <th>2</th>\n",
       "      <td>298</td>\n",
       "      <td>woman sport sleeve paragraph yoga clothe suck ...</td>\n",
       "    </tr>\n",
       "    <tr>\n",
       "      <th>3</th>\n",
       "      <td>239</td>\n",
       "      <td>man winter snow leather boot color size arctix...</td>\n",
       "    </tr>\n",
       "    <tr>\n",
       "      <th>4</th>\n",
       "      <td>252</td>\n",
       "      <td>women leg cuff waiste vintage denim stretchy r...</td>\n",
       "    </tr>\n",
       "    <tr>\n",
       "      <th>5</th>\n",
       "      <td>86</td>\n",
       "      <td>tonsee woman winter hat skiing cap skull beani...</td>\n",
       "    </tr>\n",
       "    <tr>\n",
       "      <th>6</th>\n",
       "      <td>197</td>\n",
       "      <td>man cotton nightshirt amp neck sleeve pajama s...</td>\n",
       "    </tr>\n",
       "    <tr>\n",
       "      <th>7</th>\n",
       "      <td>169</td>\n",
       "      <td>step style woman cream gold designer pakistani...</td>\n",
       "    </tr>\n",
       "    <tr>\n",
       "      <th>8</th>\n",
       "      <td>257</td>\n",
       "      <td>lady man bicycle glove spring autumn glove mot...</td>\n",
       "    </tr>\n",
       "    <tr>\n",
       "      <th>9</th>\n",
       "      <td>258</td>\n",
       "      <td>woman lace butterfly print print jean bermuda ...</td>\n",
       "    </tr>\n",
       "    <tr>\n",
       "      <th>10</th>\n",
       "      <td>310</td>\n",
       "      <td>cherry blossom robe silk bridal wedding robe b...</td>\n",
       "    </tr>\n",
       "    <tr>\n",
       "      <th>11</th>\n",
       "      <td>115</td>\n",
       "      <td>woman line button neck economy dressy suit wai...</td>\n",
       "    </tr>\n",
       "    <tr>\n",
       "      <th>12</th>\n",
       "      <td>139</td>\n",
       "      <td>woman fashion sport shoe shock absorption shoe...</td>\n",
       "    </tr>\n",
       "    <tr>\n",
       "      <th>13</th>\n",
       "      <td>156</td>\n",
       "      <td>women flop lady comfort support thong yoga mat...</td>\n",
       "    </tr>\n",
       "    <tr>\n",
       "      <th>14</th>\n",
       "      <td>238</td>\n",
       "      <td>man bay eye snow boot muck boot adult chore cu...</td>\n",
       "    </tr>\n",
       "    <tr>\n",
       "      <th>15</th>\n",
       "      <td>204</td>\n",
       "      <td>man rip denim fashion stretch jean hole jean m...</td>\n",
       "    </tr>\n",
       "    <tr>\n",
       "      <th>16</th>\n",
       "      <td>138</td>\n",
       "      <td>yiwula steel toe shoe man woman puncture safet...</td>\n",
       "    </tr>\n",
       "    <tr>\n",
       "      <th>17</th>\n",
       "      <td>247</td>\n",
       "      <td>george slip slip toe waiter shoe converse man ...</td>\n",
       "    </tr>\n",
       "    <tr>\n",
       "      <th>18</th>\n",
       "      <td>288</td>\n",
       "      <td>woman piece sweater outfit sleeve rib crop tan...</td>\n",
       "    </tr>\n",
       "    <tr>\n",
       "      <th>19</th>\n",
       "      <td>227</td>\n",
       "      <td>adida man handball shoe signal coral skecher p...</td>\n",
       "    </tr>\n",
       "    <tr>\n",
       "      <th>20</th>\n",
       "      <td>230</td>\n",
       "      <td>onemix shock absorber print jogging sneaker fa...</td>\n",
       "    </tr>\n",
       "    <tr>\n",
       "      <th>21</th>\n",
       "      <td>157</td>\n",
       "      <td>woman oak break countrytm knee boot pullover h...</td>\n",
       "    </tr>\n",
       "    <tr>\n",
       "      <th>22</th>\n",
       "      <td>225</td>\n",
       "      <td>unisex float boat shoe man men sider shoe slip...</td>\n",
       "    </tr>\n",
       "    <tr>\n",
       "      <th>23</th>\n",
       "      <td>263</td>\n",
       "      <td>skrskr connect music hat answer capacity recha...</td>\n",
       "    </tr>\n",
       "    <tr>\n",
       "      <th>24</th>\n",
       "      <td>224</td>\n",
       "      <td>man combat speed wrestling shoe boxing shoe ma...</td>\n",
       "    </tr>\n",
       "    <tr>\n",
       "      <th>25</th>\n",
       "      <td>236</td>\n",
       "      <td>fishing tool aluminum alloy fishing hook tier ...</td>\n",
       "    </tr>\n",
       "  </tbody>\n",
       "</table>\n",
       "</div>"
      ],
      "text/plain": [
       "    category_id                                     title_keywords\n",
       "0           291  cycle jersey woman sleeve shirt ride bike bike...\n",
       "1           282  woman summer dress neck spaghetti strap ruffle...\n",
       "2           298  woman sport sleeve paragraph yoga clothe suck ...\n",
       "3           239  man winter snow leather boot color size arctix...\n",
       "4           252  women leg cuff waiste vintage denim stretchy r...\n",
       "5            86  tonsee woman winter hat skiing cap skull beani...\n",
       "6           197  man cotton nightshirt amp neck sleeve pajama s...\n",
       "7           169  step style woman cream gold designer pakistani...\n",
       "8           257  lady man bicycle glove spring autumn glove mot...\n",
       "9           258  woman lace butterfly print print jean bermuda ...\n",
       "10          310  cherry blossom robe silk bridal wedding robe b...\n",
       "11          115  woman line button neck economy dressy suit wai...\n",
       "12          139  woman fashion sport shoe shock absorption shoe...\n",
       "13          156  women flop lady comfort support thong yoga mat...\n",
       "14          238  man bay eye snow boot muck boot adult chore cu...\n",
       "15          204  man rip denim fashion stretch jean hole jean m...\n",
       "16          138  yiwula steel toe shoe man woman puncture safet...\n",
       "17          247  george slip slip toe waiter shoe converse man ...\n",
       "18          288  woman piece sweater outfit sleeve rib crop tan...\n",
       "19          227  adida man handball shoe signal coral skecher p...\n",
       "20          230  onemix shock absorber print jogging sneaker fa...\n",
       "21          157  woman oak break countrytm knee boot pullover h...\n",
       "22          225  unisex float boat shoe man men sider shoe slip...\n",
       "23          263  skrskr connect music hat answer capacity recha...\n",
       "24          224  man combat speed wrestling shoe boxing shoe ma...\n",
       "25          236  fishing tool aluminum alloy fishing hook tier ..."
      ]
     },
     "execution_count": 10,
     "metadata": {},
     "output_type": "execute_result"
    }
   ],
   "source": [
    "#Aggregating the keywords for the categories\n",
    "df_feature_engineer['category_id'] = y_train[y_train.isin(cat_less)]\n",
    "df_feature_engineer_step = df_feature_engineer[['category_id', 'title_keywords']].groupby('category_id', sort=False, as_index = False).agg(' '.join)\n",
    "df_feature_engineer_step"
   ]
  },
  {
   "cell_type": "code",
   "execution_count": 11,
   "metadata": {},
   "outputs": [],
   "source": [
    "# vectorize sentences based on tf-idf\n",
    "vectorizer = TfidfVectorizer()\n",
    "X = vectorizer.fit_transform(df_feature_engineer_step['title_keywords'])\n",
    "dic_remap = {}\n",
    "dic_remap.fromkeys(df_feature_engineer_step.category_id)\n",
    "\n",
    "# measure similarity between keywords for each category\n",
    "similarity = np.zeros((df_feature_engineer.category_id.nunique(),df_feature_engineer.category_id.nunique()))\n",
    "\n",
    "for i in range(df_feature_engineer.category_id.nunique()):\n",
    "        similarity[i,:] = cosine_similarity(X[i], X[:])\n",
    "        similarity[i,i] = 0\n",
    "        dic_remap[df_feature_engineer_step.loc[i,'category_id']] = df_feature_engineer_step.loc[similarity[i].argmax(),'category_id']"
   ]
  },
  {
   "cell_type": "code",
   "execution_count": 12,
   "metadata": {},
   "outputs": [],
   "source": [
    "#Using dic_remap to remap the categories in training data\n",
    "y_train.replace(dic_remap, inplace = True)\n",
    "#Using dic_remap to remap the categories in test data\n",
    "y_test.replace(dic_remap, inplace = True)"
   ]
  },
  {
   "cell_type": "code",
   "execution_count": 13,
   "metadata": {},
   "outputs": [
    {
     "data": {
      "image/png": "[encoded data removed]",
      "text/plain": [
       "<Figure size 720x432 with 1 Axes>"
      ]
     },
     "metadata": {
      "needs_background": "light"
     },
     "output_type": "display_data"
    }
   ],
   "source": [
    "plt.figure(figsize = (10,6))\n",
    "plt.hist(y_train.value_counts().values, bins = 30)\n",
    "plt.title('Distribution of Category ids after feature engineering (training data)')\n",
    "plt.xlabel('Count of records corresponding to Category ids')\n",
    "plt.ylabel('Frequency')\n",
    "plt.show()"
   ]
  },
  {
   "cell_type": "markdown",
   "metadata": {},
   "source": [
    "The intution behind the entire process is to group similar categories together based on the cosine similarity."
   ]
  },
  {
   "cell_type": "markdown",
   "metadata": {},
   "source": [
    "Lets drop the categories with less than 480 products in the training data to deal with the imbalance"
   ]
  },
  {
   "cell_type": "code",
   "execution_count": 14,
   "metadata": {},
   "outputs": [],
   "source": [
    "#Lets get a list of the category ids that have less than 480 records\n",
    "cat_less_480 = y_train.value_counts().index[y_train.value_counts().values < 480]"
   ]
  },
  {
   "cell_type": "code",
   "execution_count": 15,
   "metadata": {},
   "outputs": [
    {
     "data": {
      "text/html": [
       "<div>\n",
       "<style scoped>\n",
       "    .dataframe tbody tr th:only-of-type {\n",
       "        vertical-align: middle;\n",
       "    }\n",
       "\n",
       "    .dataframe tbody tr th {\n",
       "        vertical-align: top;\n",
       "    }\n",
       "\n",
       "    .dataframe thead th {\n",
       "        text-align: right;\n",
       "    }\n",
       "</style>\n",
       "<table border=\"1\" class=\"dataframe\">\n",
       "  <thead>\n",
       "    <tr style=\"text-align: right;\">\n",
       "      <th></th>\n",
       "      <th>clean_title</th>\n",
       "      <th>clean_description</th>\n",
       "    </tr>\n",
       "  </thead>\n",
       "  <tbody>\n",
       "    <tr>\n",
       "      <th>194510</th>\n",
       "      <td>acko shoe cover disposable pack pair disposabl...</td>\n",
       "      <td>premium quality high quality cpe material wate...</td>\n",
       "    </tr>\n",
       "    <tr>\n",
       "      <th>164961</th>\n",
       "      <td>winter round neck sweater man warm casual loos...</td>\n",
       "      <td>material cotton material wool applicable seaso...</td>\n",
       "    </tr>\n",
       "    <tr>\n",
       "      <th>109586</th>\n",
       "      <td>circus sam edelman woman harlee loafer</td>\n",
       "      <td>synthetic sole breathable lining padded insole...</td>\n",
       "    </tr>\n",
       "    <tr>\n",
       "      <th>75502</th>\n",
       "      <td>private customize african suit jacket mini ski...</td>\n",
       "      <td>zipper closure grade class fabric african wax ...</td>\n",
       "    </tr>\n",
       "    <tr>\n",
       "      <th>8354</th>\n",
       "      <td>yeokou woman baggy neck cotton wide leg jumpsu...</td>\n",
       "      <td>fabric cotton linen machine wash pull closure ...</td>\n",
       "    </tr>\n",
       "    <tr>\n",
       "      <th>...</th>\n",
       "      <td>...</td>\n",
       "      <td>...</td>\n",
       "    </tr>\n",
       "    <tr>\n",
       "      <th>188045</th>\n",
       "      <td>waterproof man hunt field boot protective foot...</td>\n",
       "      <td>rubber sole waterproof plastic material polyur...</td>\n",
       "    </tr>\n",
       "    <tr>\n",
       "      <th>116920</th>\n",
       "      <td>ziitop women snow boot anti slip winter warm f...</td>\n",
       "      <td>anti slip rubber outsole design pattern excell...</td>\n",
       "    </tr>\n",
       "    <tr>\n",
       "      <th>187390</th>\n",
       "      <td>man boot winter waterproof ankle boot martin b...</td>\n",
       "      <td>design stylish serrate groove design seam seal...</td>\n",
       "    </tr>\n",
       "    <tr>\n",
       "      <th>146699</th>\n",
       "      <td>gioberti man kent lie collar long sleeve tuxed...</td>\n",
       "      <td>cotton polyester drawstre closure delicate cyc...</td>\n",
       "    </tr>\n",
       "    <tr>\n",
       "      <th>204438</th>\n",
       "      <td>mlkcl bright purple crystal flower cufflink bu...</td>\n",
       "      <td>flower shape cuff exquisite unique fine polish...</td>\n",
       "    </tr>\n",
       "  </tbody>\n",
       "</table>\n",
       "<p>200001 rows × 2 columns</p>\n",
       "</div>"
      ],
      "text/plain": [
       "                                              clean_title  \\\n",
       "194510  acko shoe cover disposable pack pair disposabl...   \n",
       "164961  winter round neck sweater man warm casual loos...   \n",
       "109586             circus sam edelman woman harlee loafer   \n",
       "75502   private customize african suit jacket mini ski...   \n",
       "8354    yeokou woman baggy neck cotton wide leg jumpsu...   \n",
       "...                                                   ...   \n",
       "188045  waterproof man hunt field boot protective foot...   \n",
       "116920  ziitop women snow boot anti slip winter warm f...   \n",
       "187390  man boot winter waterproof ankle boot martin b...   \n",
       "146699  gioberti man kent lie collar long sleeve tuxed...   \n",
       "204438  mlkcl bright purple crystal flower cufflink bu...   \n",
       "\n",
       "                                        clean_description  \n",
       "194510  premium quality high quality cpe material wate...  \n",
       "164961  material cotton material wool applicable seaso...  \n",
       "109586  synthetic sole breathable lining padded insole...  \n",
       "75502   zipper closure grade class fabric african wax ...  \n",
       "8354    fabric cotton linen machine wash pull closure ...  \n",
       "...                                                   ...  \n",
       "188045  rubber sole waterproof plastic material polyur...  \n",
       "116920  anti slip rubber outsole design pattern excell...  \n",
       "187390  design stylish serrate groove design seam seal...  \n",
       "146699  cotton polyester drawstre closure delicate cyc...  \n",
       "204438  flower shape cuff exquisite unique fine polish...  \n",
       "\n",
       "[200001 rows x 2 columns]"
      ]
     },
     "execution_count": 15,
     "metadata": {},
     "output_type": "execute_result"
    }
   ],
   "source": [
    "X_train = X_train.drop(y_train[y_train.isin(cat_less_480)].index, axis = 0)\n",
    "X_train"
   ]
  },
  {
   "cell_type": "code",
   "execution_count": 16,
   "metadata": {},
   "outputs": [
    {
     "data": {
      "text/plain": [
       "194510    246\n",
       "164961    207\n",
       "109586    151\n",
       "75502     114\n",
       "8354       11\n",
       "         ... \n",
       "188045    237\n",
       "116920    159\n",
       "187390    235\n",
       "146699    190\n",
       "204438    255\n",
       "Name: category_id, Length: 200001, dtype: int64"
      ]
     },
     "execution_count": 16,
     "metadata": {},
     "output_type": "execute_result"
    }
   ],
   "source": [
    "y_train = y_train.drop(y_train[y_train.isin(cat_less_480)].index)\n",
    "y_train"
   ]
  },
  {
   "cell_type": "code",
   "execution_count": 17,
   "metadata": {},
   "outputs": [
    {
     "data": {
      "text/html": [
       "<div>\n",
       "<style scoped>\n",
       "    .dataframe tbody tr th:only-of-type {\n",
       "        vertical-align: middle;\n",
       "    }\n",
       "\n",
       "    .dataframe tbody tr th {\n",
       "        vertical-align: top;\n",
       "    }\n",
       "\n",
       "    .dataframe thead th {\n",
       "        text-align: right;\n",
       "    }\n",
       "</style>\n",
       "<table border=\"1\" class=\"dataframe\">\n",
       "  <thead>\n",
       "    <tr style=\"text-align: right;\">\n",
       "      <th></th>\n",
       "      <th>clean_title</th>\n",
       "      <th>clean_description</th>\n",
       "    </tr>\n",
       "  </thead>\n",
       "  <tbody>\n",
       "    <tr>\n",
       "      <th>111971</th>\n",
       "      <td>retro motorcycle woman boot leopard print stit...</td>\n",
       "      <td>italian shoe woman zandalias para mujer de mod...</td>\n",
       "    </tr>\n",
       "    <tr>\n",
       "      <th>112565</th>\n",
       "      <td>dragonhoo fashion woman casual shoe breathable...</td>\n",
       "      <td>platform shoe walk shoe summer shoe slip shoe ...</td>\n",
       "    </tr>\n",
       "    <tr>\n",
       "      <th>138565</th>\n",
       "      <td>amazon essential man regular fit short sleeve ...</td>\n",
       "      <td>cotton button closure machine wash short sleev...</td>\n",
       "    </tr>\n",
       "    <tr>\n",
       "      <th>116965</th>\n",
       "      <td>woman snow boot winter waterproof ankle boot w...</td>\n",
       "      <td>soft winter boot hard boot casual style waterp...</td>\n",
       "    </tr>\n",
       "    <tr>\n",
       "      <th>164141</th>\n",
       "      <td>disney men ugly christmas sweater</td>\n",
       "      <td>fiber pull closure machine wash officially lic...</td>\n",
       "    </tr>\n",
       "    <tr>\n",
       "      <th>...</th>\n",
       "      <td>...</td>\n",
       "      <td>...</td>\n",
       "    </tr>\n",
       "    <tr>\n",
       "      <th>121644</th>\n",
       "      <td>lishan woman ankle strap stiletto open toe san...</td>\n",
       "      <td>rubber sole fashion design gold strappy stilet...</td>\n",
       "    </tr>\n",
       "    <tr>\n",
       "      <th>126198</th>\n",
       "      <td>chinese beijing shoe kung fu tai chi shoe rubb...</td>\n",
       "      <td>beije cloth shoe chinese traditional shoe year...</td>\n",
       "    </tr>\n",
       "    <tr>\n",
       "      <th>138451</th>\n",
       "      <td>oodji ultra man basic slim fit trouser</td>\n",
       "      <td>polyester viscose spandex zipper closure machi...</td>\n",
       "    </tr>\n",
       "    <tr>\n",
       "      <th>240793</th>\n",
       "      <td>top woman fashion woman fashion casual printin...</td>\n",
       "      <td>product description size uk eu bust sleeve len...</td>\n",
       "    </tr>\n",
       "    <tr>\n",
       "      <th>253912</th>\n",
       "      <td>women cotton kimono robe short lightweight bat...</td>\n",
       "      <td>tie closure cotton kimono robe feature gentle ...</td>\n",
       "    </tr>\n",
       "  </tbody>\n",
       "</table>\n",
       "<p>50002 rows × 2 columns</p>\n",
       "</div>"
      ],
      "text/plain": [
       "                                              clean_title  \\\n",
       "111971  retro motorcycle woman boot leopard print stit...   \n",
       "112565  dragonhoo fashion woman casual shoe breathable...   \n",
       "138565  amazon essential man regular fit short sleeve ...   \n",
       "116965  woman snow boot winter waterproof ankle boot w...   \n",
       "164141                  disney men ugly christmas sweater   \n",
       "...                                                   ...   \n",
       "121644  lishan woman ankle strap stiletto open toe san...   \n",
       "126198  chinese beijing shoe kung fu tai chi shoe rubb...   \n",
       "138451             oodji ultra man basic slim fit trouser   \n",
       "240793  top woman fashion woman fashion casual printin...   \n",
       "253912  women cotton kimono robe short lightweight bat...   \n",
       "\n",
       "                                        clean_description  \n",
       "111971  italian shoe woman zandalias para mujer de mod...  \n",
       "112565  platform shoe walk shoe summer shoe slip shoe ...  \n",
       "138565  cotton button closure machine wash short sleev...  \n",
       "116965  soft winter boot hard boot casual style waterp...  \n",
       "164141  fiber pull closure machine wash officially lic...  \n",
       "...                                                   ...  \n",
       "121644  rubber sole fashion design gold strappy stilet...  \n",
       "126198  beije cloth shoe chinese traditional shoe year...  \n",
       "138451  polyester viscose spandex zipper closure machi...  \n",
       "240793  product description size uk eu bust sleeve len...  \n",
       "253912  tie closure cotton kimono robe feature gentle ...  \n",
       "\n",
       "[50002 rows x 2 columns]"
      ]
     },
     "execution_count": 17,
     "metadata": {},
     "output_type": "execute_result"
    }
   ],
   "source": [
    "#Implementing the same process on the test data\n",
    "X_test = X_test.drop(y_test[y_test.isin(cat_less_480)].index, axis = 0)\n",
    "X_test"
   ]
  },
  {
   "cell_type": "code",
   "execution_count": 18,
   "metadata": {},
   "outputs": [
    {
     "data": {
      "text/plain": [
       "111971    153\n",
       "112565    153\n",
       "138565    183\n",
       "116965    159\n",
       "164141    207\n",
       "         ... \n",
       "121644    164\n",
       "126198    168\n",
       "138451    182\n",
       "240793    293\n",
       "253912    288\n",
       "Name: category_id, Length: 50002, dtype: int64"
      ]
     },
     "execution_count": 18,
     "metadata": {},
     "output_type": "execute_result"
    }
   ],
   "source": [
    "y_test = y_test.drop(y_test[y_test.isin(cat_less_480)].index)\n",
    "y_test"
   ]
  },
  {
   "cell_type": "code",
   "execution_count": 19,
   "metadata": {},
   "outputs": [
    {
     "data": {
      "image/png": "[encoded data removed]",
      "text/plain": [
       "<Figure size 720x432 with 1 Axes>"
      ]
     },
     "metadata": {
      "needs_background": "light"
     },
     "output_type": "display_data"
    }
   ],
   "source": [
    "plt.figure(figsize = (10,6))\n",
    "plt.hist(y_train.value_counts().values, bins = 30)\n",
    "plt.title('Distribution of Category ids after dropping categories with < 480 products (training data)')\n",
    "plt.xlabel('Count of records corresponding to Category ids')\n",
    "plt.ylabel('Frequency')\n",
    "plt.show()"
   ]
  },
  {
   "cell_type": "markdown",
   "metadata": {},
   "source": [
    "The distribution looks better than what we had initially. We dropped 2348 records from training dataset because of the condition of more than 480 products for a category id."
   ]
  },
  {
   "cell_type": "markdown",
   "metadata": {},
   "source": [
    "### Modeling"
   ]
  },
  {
   "cell_type": "code",
   "execution_count": 20,
   "metadata": {},
   "outputs": [],
   "source": [
    "vectorizer = TfidfVectorizer(use_idf=True, smooth_idf=True, norm='l2')\n",
    "vectorizer1 = TfidfVectorizer(use_idf=True, smooth_idf=True, norm='l2')\n",
    "vectorizer.fit(X_train['clean_title'].values.astype('U'))\n",
    "vectorizer1.fit(X_train['clean_description'].values.astype('U'))\n",
    "X1 = vectorizer.transform(X_train['clean_title'].values.astype('U'))\n",
    "X2 = vectorizer1.transform(X_train['clean_description'].values.astype('U'))\n",
    "X_model_train = hstack((X1, X2))"
   ]
  },
  {
   "cell_type": "code",
   "execution_count": 22,
   "metadata": {},
   "outputs": [],
   "source": [
    "X1_test = vectorizer.transform(X_test['clean_title'].values.astype('U'))\n",
    "X2_test = vectorizer1.transform(X_test['clean_description'].values.astype('U'))\n",
    "X_model_test = hstack((X1_test, X2_test))"
   ]
  },
  {
   "cell_type": "code",
   "execution_count": 23,
   "metadata": {
    "scrolled": true
   },
   "outputs": [
    {
     "name": "stdout",
     "output_type": "stream",
     "text": [
      "F1 score on test data from RF model:  0.6824127034918603\n",
      "F1 score on train data from RF model:  0.9080854595727021\n"
     ]
    }
   ],
   "source": [
    "#Random forest with class weighting in bootstrap samples this is useful for imbalanced data problems\n",
    "model = RandomForestClassifier(n_estimators = 50, random_state = 0, class_weight='balanced_subsample')\n",
    "model.fit(X_model_train, y_train)\n",
    "predictions = model.predict(X_model_test)\n",
    "print('F1 score on test data from RF model: ', f1_score(y_test, predictions, average = 'micro'))\n",
    "print('F1 score on train data from RF model: ', f1_score(y_train, model.predict(X_model_train), average = 'micro'))"
   ]
  },
  {
   "cell_type": "code",
   "execution_count": 24,
   "metadata": {
    "scrolled": false
   },
   "outputs": [
    {
     "name": "stdout",
     "output_type": "stream",
     "text": [
      "F1 score on test data from RF model with undersampling:  0.6767729290828367\n",
      "F1 score on train data from RF model with undersampling:  0.9014504927475363\n"
     ]
    }
   ],
   "source": [
    "#performing random undersampling of the majority class in each bootstrap sample\n",
    "model1 = BalancedRandomForestClassifier(n_estimators = 50, random_state = 0)\n",
    "model1.fit(X_model_train, y_train)\n",
    "predictions1 = model1.predict(X_model_test)\n",
    "print('F1 score on test data from RF model with undersampling: ', f1_score(y_test, predictions1, average = 'micro'))\n",
    "print('F1 score on train data from RF model with undersampling: ', f1_score(y_train, model1.predict(X_model_train), average = 'micro'))"
   ]
  }
 ],
 "metadata": {
  "kernelspec": {
   "display_name": "Python 3",
   "language": "python",
   "name": "python3"
  },
  "language_info": {
   "codemirror_mode": {
    "name": "ipython",
    "version": 3
   },
   "file_extension": ".py",
   "mimetype": "text/x-python",
   "name": "python",
   "nbconvert_exporter": "python",
   "pygments_lexer": "ipython3",
   "version": "3.8.5"
  }
 },
 "nbformat": 4,
 "nbformat_minor": 4
}
