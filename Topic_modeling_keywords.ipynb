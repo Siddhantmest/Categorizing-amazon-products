{
 "cells": [
  {
   "cell_type": "code",
   "execution_count": 1,
   "metadata": {},
   "outputs": [],
   "source": [
    "import pandas as pd\n",
    "import numpy as np\n",
    "import matplotlib.pyplot as plt\n",
    "import spacy, re, nltk\n",
    "#!python -m spacy download en\n",
    "\n",
    "# # For cleaning and processing\n",
    "from sklearn.feature_extraction.text import TfidfVectorizer\n",
    "from nltk import sent_tokenize\n",
    "\n",
    "# !pip install gensim\n",
    "# import gensim\n",
    "# import gensim.corpora as corpora\n",
    "\n",
    "\n",
    "# # For Modeling and Computing Accuracy\n",
    "\n",
    "# !pip install imblearn\n",
    "# !pip install delayed\n",
    "from imblearn.ensemble import BalancedRandomForestClassifier\n",
    "from sklearn.ensemble import RandomForestClassifier\n",
    "from sklearn.discriminant_analysis import LinearDiscriminantAnalysis\n",
    "from sklearn.decomposition import LatentDirichletAllocation\n",
    "from sklearn.metrics import f1_score\n",
    "from sklearn.metrics.pairwise import cosine_similarity\n",
    "from sklearn.model_selection import train_test_split\n",
    "from scipy.sparse import hstack"
   ]
  },
  {
   "cell_type": "code",
   "execution_count": 2,
   "metadata": {},
   "outputs": [
    {
     "data": {
      "text/html": [
       "<div>\n",
       "<style scoped>\n",
       "    .dataframe tbody tr th:only-of-type {\n",
       "        vertical-align: middle;\n",
       "    }\n",
       "\n",
       "    .dataframe tbody tr th {\n",
       "        vertical-align: top;\n",
       "    }\n",
       "\n",
       "    .dataframe thead th {\n",
       "        text-align: right;\n",
       "    }\n",
       "</style>\n",
       "<table border=\"1\" class=\"dataframe\">\n",
       "  <thead>\n",
       "    <tr style=\"text-align: right;\">\n",
       "      <th></th>\n",
       "      <th>title_keywords</th>\n",
       "      <th>description_keywords</th>\n",
       "      <th>category_id</th>\n",
       "    </tr>\n",
       "  </thead>\n",
       "  <tbody>\n",
       "    <tr>\n",
       "      <th>0</th>\n",
       "      <td>sunglass man woman frame drive sun glass uv block</td>\n",
       "      <td>impact scratch day time walk park drive fishin...</td>\n",
       "      <td>44</td>\n",
       "    </tr>\n",
       "    <tr>\n",
       "      <th>1</th>\n",
       "      <td>vintage sunglass cateye sunglass woman man fra...</td>\n",
       "      <td>quality material gradient cat eye sunglass pc ...</td>\n",
       "      <td>44</td>\n",
       "    </tr>\n",
       "    <tr>\n",
       "      <th>2</th>\n",
       "      <td>armour women visor</td>\n",
       "      <td>mission athlete passion design pursuit innovat...</td>\n",
       "      <td>44</td>\n",
       "    </tr>\n",
       "    <tr>\n",
       "      <th>3</th>\n",
       "      <td>sunglass woman man fashion shade</td>\n",
       "      <td>microfiber pouch glass cloth grfisia nbsp grfi...</td>\n",
       "      <td>44</td>\n",
       "    </tr>\n",
       "    <tr>\n",
       "      <th>4</th>\n",
       "      <td>feisedy sunglass woman style</td>\n",
       "      <td>feisedy retro design frame design minimalist s...</td>\n",
       "      <td>44</td>\n",
       "    </tr>\n",
       "    <tr>\n",
       "      <th>...</th>\n",
       "      <td>...</td>\n",
       "      <td>...</td>\n",
       "      <td>...</td>\n",
       "    </tr>\n",
       "    <tr>\n",
       "      <th>253923</th>\n",
       "      <td>cotton waffle robe couple spa robe bathrobe dr...</td>\n",
       "      <td>cotton couple robe amp king amp hubby amp embr...</td>\n",
       "      <td>310</td>\n",
       "    </tr>\n",
       "    <tr>\n",
       "      <th>253924</th>\n",
       "      <td>woman lace kimono robe lingerie mesh chemise n...</td>\n",
       "      <td>size fit woman kimono lingerie swimsuit polyes...</td>\n",
       "      <td>310</td>\n",
       "    </tr>\n",
       "    <tr>\n",
       "      <th>253925</th>\n",
       "      <td>pavilia women zipper robe zip front lounger</td>\n",
       "      <td>product description nbsp pavilia fleece house ...</td>\n",
       "      <td>310</td>\n",
       "    </tr>\n",
       "    <tr>\n",
       "      <th>253926</th>\n",
       "      <td>satin robe woman robe wedding gift</td>\n",
       "      <td>silk tie closure machine wash polyester tie cl...</td>\n",
       "      <td>310</td>\n",
       "    </tr>\n",
       "    <tr>\n",
       "      <th>253927</th>\n",
       "      <td>woman bride robe robe woman emerald</td>\n",
       "      <td>lounge wear bathrobe bridal robe gift woman pr...</td>\n",
       "      <td>310</td>\n",
       "    </tr>\n",
       "  </tbody>\n",
       "</table>\n",
       "<p>252937 rows × 3 columns</p>\n",
       "</div>"
      ],
      "text/plain": [
       "                                           title_keywords  \\\n",
       "0       sunglass man woman frame drive sun glass uv block   \n",
       "1       vintage sunglass cateye sunglass woman man fra...   \n",
       "2                                      armour women visor   \n",
       "3                        sunglass woman man fashion shade   \n",
       "4                            feisedy sunglass woman style   \n",
       "...                                                   ...   \n",
       "253923  cotton waffle robe couple spa robe bathrobe dr...   \n",
       "253924  woman lace kimono robe lingerie mesh chemise n...   \n",
       "253925        pavilia women zipper robe zip front lounger   \n",
       "253926                 satin robe woman robe wedding gift   \n",
       "253927                woman bride robe robe woman emerald   \n",
       "\n",
       "                                     description_keywords  category_id  \n",
       "0       impact scratch day time walk park drive fishin...           44  \n",
       "1       quality material gradient cat eye sunglass pc ...           44  \n",
       "2       mission athlete passion design pursuit innovat...           44  \n",
       "3       microfiber pouch glass cloth grfisia nbsp grfi...           44  \n",
       "4       feisedy retro design frame design minimalist s...           44  \n",
       "...                                                   ...          ...  \n",
       "253923  cotton couple robe amp king amp hubby amp embr...          310  \n",
       "253924  size fit woman kimono lingerie swimsuit polyes...          310  \n",
       "253925  product description nbsp pavilia fleece house ...          310  \n",
       "253926  silk tie closure machine wash polyester tie cl...          310  \n",
       "253927  lounge wear bathrobe bridal robe gift woman pr...          310  \n",
       "\n",
       "[252937 rows x 3 columns]"
      ]
     },
     "execution_count": 2,
     "metadata": {},
     "output_type": "execute_result"
    }
   ],
   "source": [
    "df_original = pd.read_csv('Keywords_product_data.csv', index_col = 0)\n",
    "df_original"
   ]
  },
  {
   "cell_type": "markdown",
   "metadata": {},
   "source": [
    "### Data Exploration"
   ]
  },
  {
   "cell_type": "code",
   "execution_count": 3,
   "metadata": {},
   "outputs": [
    {
     "data": {
      "text/plain": [
       "293    1200\n",
       "262    1200\n",
       "96     1200\n",
       "99     1199\n",
       "14     1198\n",
       "       ... \n",
       "230      47\n",
       "225      47\n",
       "224      44\n",
       "288      42\n",
       "258      40\n",
       "Name: category_id, Length: 243, dtype: int64"
      ]
     },
     "execution_count": 3,
     "metadata": {},
     "output_type": "execute_result"
    }
   ],
   "source": [
    "#Checking the value counts of the category ids\n",
    "df_original.category_id.value_counts()"
   ]
  },
  {
   "cell_type": "markdown",
   "metadata": {},
   "source": [
    "Seems like we have 252937 records and 243 categories and some of the category ids have very less records making it an unbalanced data set."
   ]
  },
  {
   "cell_type": "code",
   "execution_count": 4,
   "metadata": {},
   "outputs": [
    {
     "data": {
      "image/png": "[encoded data removed]",
      "text/plain": [
       "<Figure size 720x432 with 1 Axes>"
      ]
     },
     "metadata": {
      "needs_background": "light"
     },
     "output_type": "display_data"
    }
   ],
   "source": [
    "plt.figure(figsize = (10,6))\n",
    "plt.hist(df_original.category_id.value_counts().values, bins = 30)\n",
    "plt.title('Distribution of count of records corresponding to Category ids')\n",
    "plt.xlabel('Count of records corresponding to Category ids')\n",
    "plt.ylabel('Frequency')\n",
    "plt.show()"
   ]
  },
  {
   "cell_type": "markdown",
   "metadata": {},
   "source": [
    "According to the plot above we can see the distribution is left tailed so we can try to feature engineer categories with less than 800 records in them as we need to make sure to decrease the tail as well as keep around 200 categories."
   ]
  },
  {
   "cell_type": "markdown",
   "metadata": {},
   "source": [
    "### Split the data (to avoid data leakage)"
   ]
  },
  {
   "cell_type": "code",
   "execution_count": 5,
   "metadata": {},
   "outputs": [],
   "source": [
    "X_train, X_test, y_train, y_test = train_test_split(df_original[['title_keywords', 'description_keywords']], \n",
    "                                                    df_original['category_id'], random_state=0, test_size=0.2, \n",
    "                                                    stratify = df_original['category_id'])"
   ]
  },
  {
   "cell_type": "markdown",
   "metadata": {},
   "source": [
    "### Feature Engineering"
   ]
  },
  {
   "cell_type": "code",
   "execution_count": 6,
   "metadata": {},
   "outputs": [],
   "source": [
    "#Lets get a list of the category ids that have less than 640 records (because the data is split into 80/20)\n",
    "cat_less = y_train.value_counts().index[y_train.value_counts().values < 640]"
   ]
  },
  {
   "cell_type": "code",
   "execution_count": 7,
   "metadata": {
    "scrolled": false
   },
   "outputs": [
    {
     "data": {
      "text/html": [
       "<div>\n",
       "<style scoped>\n",
       "    .dataframe tbody tr th:only-of-type {\n",
       "        vertical-align: middle;\n",
       "    }\n",
       "\n",
       "    .dataframe tbody tr th {\n",
       "        vertical-align: top;\n",
       "    }\n",
       "\n",
       "    .dataframe thead th {\n",
       "        text-align: right;\n",
       "    }\n",
       "</style>\n",
       "<table border=\"1\" class=\"dataframe\">\n",
       "  <thead>\n",
       "    <tr style=\"text-align: right;\">\n",
       "      <th></th>\n",
       "      <th>title_keywords</th>\n",
       "      <th>description_keywords</th>\n",
       "    </tr>\n",
       "  </thead>\n",
       "  <tbody>\n",
       "    <tr>\n",
       "      <th>238510</th>\n",
       "      <td>cycle jersey woman sleeve shirt ride bike bike...</td>\n",
       "      <td>product description product detail jpojpo cycl...</td>\n",
       "    </tr>\n",
       "    <tr>\n",
       "      <th>231915</th>\n",
       "      <td>woman summer dress neck spaghetti strap ruffle...</td>\n",
       "      <td>size dress dress women size dress closure woma...</td>\n",
       "    </tr>\n",
       "    <tr>\n",
       "      <th>245505</th>\n",
       "      <td>woman sport sleeve paragraph yoga clothe suck ...</td>\n",
       "      <td>fabric polyurethane sweat colorfast deformatio...</td>\n",
       "    </tr>\n",
       "    <tr>\n",
       "      <th>189239</th>\n",
       "      <td>man winter snow leather boot color size</td>\n",
       "      <td>rubber shaft measure ankle premium leather boo...</td>\n",
       "    </tr>\n",
       "    <tr>\n",
       "      <th>200728</th>\n",
       "      <td>women leg cuff waiste vintage denim stretchy r...</td>\n",
       "      <td>fashion jean wardrobe summer feature summer sa...</td>\n",
       "    </tr>\n",
       "    <tr>\n",
       "      <th>...</th>\n",
       "      <td>...</td>\n",
       "      <td>...</td>\n",
       "    </tr>\n",
       "    <tr>\n",
       "      <th>231789</th>\n",
       "      <td>woman summer dress printing neck flowy swing s...</td>\n",
       "      <td>spring dress dress women dress closure summer ...</td>\n",
       "    </tr>\n",
       "    <tr>\n",
       "      <th>195542</th>\n",
       "      <td>skecher man nampa groton food service shoe</td>\n",
       "      <td>leather synthetic rubber shaft arch memory foa...</td>\n",
       "    </tr>\n",
       "    <tr>\n",
       "      <th>127196</th>\n",
       "      <td>creation jutti woman leather sequence shoe</td>\n",
       "      <td>leather sequence work leather india item party...</td>\n",
       "    </tr>\n",
       "    <tr>\n",
       "      <th>188487</th>\n",
       "      <td>kodiak man magog fashion boot</td>\n",
       "      <td>spirit kodiak boot man woman product descripti...</td>\n",
       "    </tr>\n",
       "    <tr>\n",
       "      <th>187390</th>\n",
       "      <td>man boot winter ankle boot martin boot work sn...</td>\n",
       "      <td>design serrate groove design seam sealing film...</td>\n",
       "    </tr>\n",
       "  </tbody>\n",
       "</table>\n",
       "<p>11026 rows × 2 columns</p>\n",
       "</div>"
      ],
      "text/plain": [
       "                                           title_keywords  \\\n",
       "238510  cycle jersey woman sleeve shirt ride bike bike...   \n",
       "231915  woman summer dress neck spaghetti strap ruffle...   \n",
       "245505  woman sport sleeve paragraph yoga clothe suck ...   \n",
       "189239            man winter snow leather boot color size   \n",
       "200728  women leg cuff waiste vintage denim stretchy r...   \n",
       "...                                                   ...   \n",
       "231789  woman summer dress printing neck flowy swing s...   \n",
       "195542         skecher man nampa groton food service shoe   \n",
       "127196         creation jutti woman leather sequence shoe   \n",
       "188487                      kodiak man magog fashion boot   \n",
       "187390  man boot winter ankle boot martin boot work sn...   \n",
       "\n",
       "                                     description_keywords  \n",
       "238510  product description product detail jpojpo cycl...  \n",
       "231915  size dress dress women size dress closure woma...  \n",
       "245505  fabric polyurethane sweat colorfast deformatio...  \n",
       "189239  rubber shaft measure ankle premium leather boo...  \n",
       "200728  fashion jean wardrobe summer feature summer sa...  \n",
       "...                                                   ...  \n",
       "231789  spring dress dress women dress closure summer ...  \n",
       "195542  leather synthetic rubber shaft arch memory foa...  \n",
       "127196  leather sequence work leather india item party...  \n",
       "188487  spirit kodiak boot man woman product descripti...  \n",
       "187390  design serrate groove design seam sealing film...  \n",
       "\n",
       "[11026 rows x 2 columns]"
      ]
     },
     "execution_count": 7,
     "metadata": {},
     "output_type": "execute_result"
    }
   ],
   "source": [
    "df_feature_engineer = X_train.loc[y_train[y_train.isin(cat_less)].index]\n",
    "df_feature_engineer"
   ]
  },
  {
   "cell_type": "code",
   "execution_count": 8,
   "metadata": {},
   "outputs": [
    {
     "name": "stdout",
     "output_type": "stream",
     "text": [
      "<class 'pandas.core.frame.DataFrame'>\n",
      "Int64Index: 11026 entries, 238510 to 187390\n",
      "Data columns (total 2 columns):\n",
      " #   Column                Non-Null Count  Dtype \n",
      "---  ------                --------------  ----- \n",
      " 0   title_keywords        11022 non-null  object\n",
      " 1   description_keywords  11025 non-null  object\n",
      "dtypes: object(2)\n",
      "memory usage: 258.4+ KB\n"
     ]
    }
   ],
   "source": [
    "df_feature_engineer.info()"
   ]
  },
  {
   "cell_type": "code",
   "execution_count": 9,
   "metadata": {},
   "outputs": [
    {
     "data": {
      "text/html": [
       "<div>\n",
       "<style scoped>\n",
       "    .dataframe tbody tr th:only-of-type {\n",
       "        vertical-align: middle;\n",
       "    }\n",
       "\n",
       "    .dataframe tbody tr th {\n",
       "        vertical-align: top;\n",
       "    }\n",
       "\n",
       "    .dataframe thead th {\n",
       "        text-align: right;\n",
       "    }\n",
       "</style>\n",
       "<table border=\"1\" class=\"dataframe\">\n",
       "  <thead>\n",
       "    <tr style=\"text-align: right;\">\n",
       "      <th></th>\n",
       "      <th>category_id</th>\n",
       "      <th>title_keywords</th>\n",
       "    </tr>\n",
       "  </thead>\n",
       "  <tbody>\n",
       "    <tr>\n",
       "      <th>0</th>\n",
       "      <td>291</td>\n",
       "      <td>cycle jersey woman sleeve shirt ride bike bike...</td>\n",
       "    </tr>\n",
       "    <tr>\n",
       "      <th>1</th>\n",
       "      <td>282</td>\n",
       "      <td>woman summer dress neck spaghetti strap ruffle...</td>\n",
       "    </tr>\n",
       "    <tr>\n",
       "      <th>2</th>\n",
       "      <td>298</td>\n",
       "      <td>woman sport sleeve paragraph yoga clothe suck ...</td>\n",
       "    </tr>\n",
       "    <tr>\n",
       "      <th>3</th>\n",
       "      <td>239</td>\n",
       "      <td>man winter snow leather boot color size arctix...</td>\n",
       "    </tr>\n",
       "    <tr>\n",
       "      <th>4</th>\n",
       "      <td>252</td>\n",
       "      <td>women leg cuff waiste vintage denim stretchy r...</td>\n",
       "    </tr>\n",
       "    <tr>\n",
       "      <th>5</th>\n",
       "      <td>86</td>\n",
       "      <td>tonsee woman winter hat skiing cap skull beani...</td>\n",
       "    </tr>\n",
       "    <tr>\n",
       "      <th>6</th>\n",
       "      <td>235</td>\n",
       "      <td>rock drone volume climbing shoe diamond moment...</td>\n",
       "    </tr>\n",
       "    <tr>\n",
       "      <th>7</th>\n",
       "      <td>226</td>\n",
       "      <td>men size hammer rogue carbon hand bowling shoe...</td>\n",
       "    </tr>\n",
       "    <tr>\n",
       "      <th>8</th>\n",
       "      <td>228</td>\n",
       "      <td>shoe man shoe camo print size fashion sneaker ...</td>\n",
       "    </tr>\n",
       "    <tr>\n",
       "      <th>9</th>\n",
       "      <td>197</td>\n",
       "      <td>man cotton nightshirt amp neck sleeve pajama s...</td>\n",
       "    </tr>\n",
       "    <tr>\n",
       "      <th>10</th>\n",
       "      <td>169</td>\n",
       "      <td>step style woman cream gold designer pakistani...</td>\n",
       "    </tr>\n",
       "    <tr>\n",
       "      <th>11</th>\n",
       "      <td>168</td>\n",
       "      <td>hanfeng beef tendon bottom embroider shoe beij...</td>\n",
       "    </tr>\n",
       "    <tr>\n",
       "      <th>12</th>\n",
       "      <td>257</td>\n",
       "      <td>lady man bicycle glove spring autumn glove mot...</td>\n",
       "    </tr>\n",
       "    <tr>\n",
       "      <th>13</th>\n",
       "      <td>290</td>\n",
       "      <td>dress swing dress woman shoulder size size dre...</td>\n",
       "    </tr>\n",
       "    <tr>\n",
       "      <th>14</th>\n",
       "      <td>244</td>\n",
       "      <td>hawaii adult classic jandal navy birkenstock g...</td>\n",
       "    </tr>\n",
       "    <tr>\n",
       "      <th>15</th>\n",
       "      <td>201</td>\n",
       "      <td>adolfo man wool cashmere front suit pant ellis...</td>\n",
       "    </tr>\n",
       "    <tr>\n",
       "      <th>16</th>\n",
       "      <td>258</td>\n",
       "      <td>woman lace butterfly print print jean bermuda ...</td>\n",
       "    </tr>\n",
       "    <tr>\n",
       "      <th>17</th>\n",
       "      <td>310</td>\n",
       "      <td>cherry blossom robe silk bridal wedding robe b...</td>\n",
       "    </tr>\n",
       "    <tr>\n",
       "      <th>18</th>\n",
       "      <td>115</td>\n",
       "      <td>woman line button neck economy dressy suit wai...</td>\n",
       "    </tr>\n",
       "    <tr>\n",
       "      <th>19</th>\n",
       "      <td>139</td>\n",
       "      <td>woman fashion sport shoe shock absorption shoe...</td>\n",
       "    </tr>\n",
       "    <tr>\n",
       "      <th>20</th>\n",
       "      <td>156</td>\n",
       "      <td>women flop lady comfort support thong yoga mat...</td>\n",
       "    </tr>\n",
       "    <tr>\n",
       "      <th>21</th>\n",
       "      <td>238</td>\n",
       "      <td>man bay eye snow boot muck boot adult chore cu...</td>\n",
       "    </tr>\n",
       "    <tr>\n",
       "      <th>22</th>\n",
       "      <td>204</td>\n",
       "      <td>man rip denim fashion stretch jean hole jean m...</td>\n",
       "    </tr>\n",
       "    <tr>\n",
       "      <th>23</th>\n",
       "      <td>259</td>\n",
       "      <td>stroller glove hand muff winter freeze glove c...</td>\n",
       "    </tr>\n",
       "    <tr>\n",
       "      <th>24</th>\n",
       "      <td>105</td>\n",
       "      <td>woman waist zip crop women cotton linen pant w...</td>\n",
       "    </tr>\n",
       "    <tr>\n",
       "      <th>25</th>\n",
       "      <td>138</td>\n",
       "      <td>yiwula steel toe shoe man woman puncture safet...</td>\n",
       "    </tr>\n",
       "    <tr>\n",
       "      <th>26</th>\n",
       "      <td>247</td>\n",
       "      <td>george slip slip toe waiter shoe converse man ...</td>\n",
       "    </tr>\n",
       "    <tr>\n",
       "      <th>27</th>\n",
       "      <td>288</td>\n",
       "      <td>woman piece sweater outfit sleeve rib crop tan...</td>\n",
       "    </tr>\n",
       "    <tr>\n",
       "      <th>28</th>\n",
       "      <td>227</td>\n",
       "      <td>adida man handball shoe signal coral skecher p...</td>\n",
       "    </tr>\n",
       "    <tr>\n",
       "      <th>29</th>\n",
       "      <td>230</td>\n",
       "      <td>onemix shock absorber print jogging sneaker fa...</td>\n",
       "    </tr>\n",
       "    <tr>\n",
       "      <th>30</th>\n",
       "      <td>157</td>\n",
       "      <td>woman oak break countrytm knee boot pullover h...</td>\n",
       "    </tr>\n",
       "    <tr>\n",
       "      <th>31</th>\n",
       "      <td>225</td>\n",
       "      <td>unisex float boat shoe man men sider shoe slip...</td>\n",
       "    </tr>\n",
       "    <tr>\n",
       "      <th>32</th>\n",
       "      <td>263</td>\n",
       "      <td>skrskr connect music hat answer capacity recha...</td>\n",
       "    </tr>\n",
       "    <tr>\n",
       "      <th>33</th>\n",
       "      <td>224</td>\n",
       "      <td>man combat speed wrestling shoe boxing shoe ma...</td>\n",
       "    </tr>\n",
       "    <tr>\n",
       "      <th>34</th>\n",
       "      <td>236</td>\n",
       "      <td>fishing tool aluminum alloy fishing hook tier ...</td>\n",
       "    </tr>\n",
       "  </tbody>\n",
       "</table>\n",
       "</div>"
      ],
      "text/plain": [
       "    category_id                                     title_keywords\n",
       "0           291  cycle jersey woman sleeve shirt ride bike bike...\n",
       "1           282  woman summer dress neck spaghetti strap ruffle...\n",
       "2           298  woman sport sleeve paragraph yoga clothe suck ...\n",
       "3           239  man winter snow leather boot color size arctix...\n",
       "4           252  women leg cuff waiste vintage denim stretchy r...\n",
       "5            86  tonsee woman winter hat skiing cap skull beani...\n",
       "6           235  rock drone volume climbing shoe diamond moment...\n",
       "7           226  men size hammer rogue carbon hand bowling shoe...\n",
       "8           228  shoe man shoe camo print size fashion sneaker ...\n",
       "9           197  man cotton nightshirt amp neck sleeve pajama s...\n",
       "10          169  step style woman cream gold designer pakistani...\n",
       "11          168  hanfeng beef tendon bottom embroider shoe beij...\n",
       "12          257  lady man bicycle glove spring autumn glove mot...\n",
       "13          290  dress swing dress woman shoulder size size dre...\n",
       "14          244  hawaii adult classic jandal navy birkenstock g...\n",
       "15          201  adolfo man wool cashmere front suit pant ellis...\n",
       "16          258  woman lace butterfly print print jean bermuda ...\n",
       "17          310  cherry blossom robe silk bridal wedding robe b...\n",
       "18          115  woman line button neck economy dressy suit wai...\n",
       "19          139  woman fashion sport shoe shock absorption shoe...\n",
       "20          156  women flop lady comfort support thong yoga mat...\n",
       "21          238  man bay eye snow boot muck boot adult chore cu...\n",
       "22          204  man rip denim fashion stretch jean hole jean m...\n",
       "23          259  stroller glove hand muff winter freeze glove c...\n",
       "24          105  woman waist zip crop women cotton linen pant w...\n",
       "25          138  yiwula steel toe shoe man woman puncture safet...\n",
       "26          247  george slip slip toe waiter shoe converse man ...\n",
       "27          288  woman piece sweater outfit sleeve rib crop tan...\n",
       "28          227  adida man handball shoe signal coral skecher p...\n",
       "29          230  onemix shock absorber print jogging sneaker fa...\n",
       "30          157  woman oak break countrytm knee boot pullover h...\n",
       "31          225  unisex float boat shoe man men sider shoe slip...\n",
       "32          263  skrskr connect music hat answer capacity recha...\n",
       "33          224  man combat speed wrestling shoe boxing shoe ma...\n",
       "34          236  fishing tool aluminum alloy fishing hook tier ..."
      ]
     },
     "execution_count": 9,
     "metadata": {},
     "output_type": "execute_result"
    }
   ],
   "source": [
    "#Aggregating the keywords for the categories\n",
    "df_feature_engineer['category_id'] = y_train[y_train.isin(cat_less)]\n",
    "df_feature_engineer['title_keywords'] = df_feature_engineer['title_keywords'].astype('str')\n",
    "df_feature_engineer_step = df_feature_engineer[['category_id', 'title_keywords']].groupby('category_id', sort=False, as_index = False).agg(' '.join)\n",
    "df_feature_engineer_step"
   ]
  },
  {
   "cell_type": "code",
   "execution_count": 10,
   "metadata": {},
   "outputs": [],
   "source": [
    "# Vectorizing to get an array to be fed for Latent Drichlet Allocation (Topic modelling)\n",
    "vectorizer = TfidfVectorizer(use_idf=True, smooth_idf=True, norm='l2')\n",
    "vectorized_array = vectorizer.fit_transform(df_feature_engineer_step['title_keywords'].values.astype('U'))"
   ]
  },
  {
   "cell_type": "code",
   "execution_count": 11,
   "metadata": {},
   "outputs": [],
   "source": [
    "# Performing LDA for topic modeling and merging the documents\n",
    "lda = LatentDirichletAllocation(n_components=len(df_feature_engineer_step), random_state=0)\n",
    "topics = lda.fit_transform(vectorized_array)"
   ]
  },
  {
   "cell_type": "code",
   "execution_count": 12,
   "metadata": {},
   "outputs": [
    {
     "data": {
      "text/plain": [
       "(3, 310)"
      ]
     },
     "execution_count": 12,
     "metadata": {},
     "output_type": "execute_result"
    }
   ],
   "source": [
    "df_original.category_id.min(), df_original.category_id.max()"
   ]
  },
  {
   "cell_type": "code",
   "execution_count": 13,
   "metadata": {},
   "outputs": [],
   "source": [
    "dic_remap = {}\n",
    "dic_remap.fromkeys(df_feature_engineer_step.category_id)\n",
    "for i in range(len(topics)):\n",
    "    if topics[i].max() > 0.5:\n",
    "        dic_remap[df_feature_engineer_step.loc[i,'category_id']] = 320 + topics[i].argmax()\n",
    "    else:\n",
    "        dic_remap[df_feature_engineer_step.loc[i,'category_id']] = df_feature_engineer_step.loc[i,'category_id']"
   ]
  },
  {
   "cell_type": "code",
   "execution_count": 14,
   "metadata": {},
   "outputs": [],
   "source": [
    "#Using dic_remap to remap the categories in training data\n",
    "y_train.replace(dic_remap, inplace = True)\n",
    "#Using dic_remap to remap the categories in test data\n",
    "y_test.replace(dic_remap, inplace = True)"
   ]
  },
  {
   "cell_type": "code",
   "execution_count": 15,
   "metadata": {},
   "outputs": [
    {
     "data": {
      "image/png": "[encoded data removed]",
      "text/plain": [
       "<Figure size 720x432 with 1 Axes>"
      ]
     },
     "metadata": {
      "needs_background": "light"
     },
     "output_type": "display_data"
    }
   ],
   "source": [
    "plt.figure(figsize = (10,6))\n",
    "plt.hist(y_train.value_counts().values, bins = 30)\n",
    "plt.title('Distribution of Category ids after feature engineering (training data)')\n",
    "plt.xlabel('Count of records corresponding to Category ids')\n",
    "plt.ylabel('Frequency')\n",
    "plt.show()"
   ]
  },
  {
   "cell_type": "markdown",
   "metadata": {},
   "source": [
    "The intution behind the entire process is to group similar categories together based on the cosine similarity."
   ]
  },
  {
   "cell_type": "markdown",
   "metadata": {},
   "source": [
    "Lets drop the categories with less than 640 products in the training data to deal with the imbalance"
   ]
  },
  {
   "cell_type": "code",
   "execution_count": 16,
   "metadata": {},
   "outputs": [],
   "source": [
    "#Lets get a list of the category ids that have less than 640 records\n",
    "cat_less_640 = y_train.value_counts().index[y_train.value_counts().values < 640]"
   ]
  },
  {
   "cell_type": "code",
   "execution_count": 17,
   "metadata": {},
   "outputs": [
    {
     "data": {
      "text/html": [
       "<div>\n",
       "<style scoped>\n",
       "    .dataframe tbody tr th:only-of-type {\n",
       "        vertical-align: middle;\n",
       "    }\n",
       "\n",
       "    .dataframe tbody tr th {\n",
       "        vertical-align: top;\n",
       "    }\n",
       "\n",
       "    .dataframe thead th {\n",
       "        text-align: right;\n",
       "    }\n",
       "</style>\n",
       "<table border=\"1\" class=\"dataframe\">\n",
       "  <thead>\n",
       "    <tr style=\"text-align: right;\">\n",
       "      <th></th>\n",
       "      <th>title_keywords</th>\n",
       "      <th>description_keywords</th>\n",
       "    </tr>\n",
       "  </thead>\n",
       "  <tbody>\n",
       "    <tr>\n",
       "      <th>194510</th>\n",
       "      <td>acko shoe pack pair shoe amp boot cover slip s...</td>\n",
       "      <td>quality quality cpe material slip size color p...</td>\n",
       "    </tr>\n",
       "    <tr>\n",
       "      <th>164961</th>\n",
       "      <td>winter round neck sweater man color matching s...</td>\n",
       "      <td>cotton material wool season autumn winter mode...</td>\n",
       "    </tr>\n",
       "    <tr>\n",
       "      <th>109586</th>\n",
       "      <td>circus sam edelman woman loafer</td>\n",
       "      <td>lining slip wearability product description fa...</td>\n",
       "    </tr>\n",
       "    <tr>\n",
       "      <th>75502</th>\n",
       "      <td>customize suit jacket mini skirt woman wax cot...</td>\n",
       "      <td>closure grade class fabric wax batik fabric co...</td>\n",
       "    </tr>\n",
       "    <tr>\n",
       "      <th>8354</th>\n",
       "      <td>woman baggy neck cotton leg jumpsuit crop pant</td>\n",
       "      <td>fabric cotton linen machine wash closure slant...</td>\n",
       "    </tr>\n",
       "    <tr>\n",
       "      <th>...</th>\n",
       "      <td>...</td>\n",
       "      <td>...</td>\n",
       "    </tr>\n",
       "    <tr>\n",
       "      <th>224004</th>\n",
       "      <td>autumn winter plaid scarf cashmere shawl winte...</td>\n",
       "      <td>shawl side wool</td>\n",
       "    </tr>\n",
       "    <tr>\n",
       "      <th>188045</th>\n",
       "      <td>man hunt field boot footwear sock slip rubber ...</td>\n",
       "      <td>rubber plastic material polyurethane rubber ma...</td>\n",
       "    </tr>\n",
       "    <tr>\n",
       "      <th>116920</th>\n",
       "      <td>women snow boot winter fur line ankle boot lad...</td>\n",
       "      <td>rubber outsole design pattern grip fearless ic...</td>\n",
       "    </tr>\n",
       "    <tr>\n",
       "      <th>146699</th>\n",
       "      <td>gioberti man kent lie collar sleeve tuxedo dre...</td>\n",
       "      <td>cotton polyester drawstre closure cycle front ...</td>\n",
       "    </tr>\n",
       "    <tr>\n",
       "      <th>204438</th>\n",
       "      <td>crystal flower cufflink business metal color c...</td>\n",
       "      <td>flower shape cuff polishing process design wea...</td>\n",
       "    </tr>\n",
       "  </tbody>\n",
       "</table>\n",
       "<p>194319 rows × 2 columns</p>\n",
       "</div>"
      ],
      "text/plain": [
       "                                           title_keywords  \\\n",
       "194510  acko shoe pack pair shoe amp boot cover slip s...   \n",
       "164961  winter round neck sweater man color matching s...   \n",
       "109586                    circus sam edelman woman loafer   \n",
       "75502   customize suit jacket mini skirt woman wax cot...   \n",
       "8354       woman baggy neck cotton leg jumpsuit crop pant   \n",
       "...                                                   ...   \n",
       "224004  autumn winter plaid scarf cashmere shawl winte...   \n",
       "188045  man hunt field boot footwear sock slip rubber ...   \n",
       "116920  women snow boot winter fur line ankle boot lad...   \n",
       "146699  gioberti man kent lie collar sleeve tuxedo dre...   \n",
       "204438  crystal flower cufflink business metal color c...   \n",
       "\n",
       "                                     description_keywords  \n",
       "194510  quality quality cpe material slip size color p...  \n",
       "164961  cotton material wool season autumn winter mode...  \n",
       "109586  lining slip wearability product description fa...  \n",
       "75502   closure grade class fabric wax batik fabric co...  \n",
       "8354    fabric cotton linen machine wash closure slant...  \n",
       "...                                                   ...  \n",
       "224004                                    shawl side wool  \n",
       "188045  rubber plastic material polyurethane rubber ma...  \n",
       "116920  rubber outsole design pattern grip fearless ic...  \n",
       "146699  cotton polyester drawstre closure cycle front ...  \n",
       "204438  flower shape cuff polishing process design wea...  \n",
       "\n",
       "[194319 rows x 2 columns]"
      ]
     },
     "execution_count": 17,
     "metadata": {},
     "output_type": "execute_result"
    }
   ],
   "source": [
    "X_train = X_train.drop(y_train[y_train.isin(cat_less_640)].index, axis = 0)\n",
    "X_train"
   ]
  },
  {
   "cell_type": "code",
   "execution_count": 18,
   "metadata": {},
   "outputs": [
    {
     "data": {
      "text/plain": [
       "194510    246\n",
       "164961    207\n",
       "109586    151\n",
       "75502     114\n",
       "8354       11\n",
       "         ... \n",
       "224004    275\n",
       "188045    237\n",
       "116920    159\n",
       "146699    190\n",
       "204438    255\n",
       "Name: category_id, Length: 194319, dtype: int64"
      ]
     },
     "execution_count": 18,
     "metadata": {},
     "output_type": "execute_result"
    }
   ],
   "source": [
    "y_train = y_train.drop(y_train[y_train.isin(cat_less_640)].index)\n",
    "y_train"
   ]
  },
  {
   "cell_type": "code",
   "execution_count": 19,
   "metadata": {},
   "outputs": [
    {
     "data": {
      "text/html": [
       "<div>\n",
       "<style scoped>\n",
       "    .dataframe tbody tr th:only-of-type {\n",
       "        vertical-align: middle;\n",
       "    }\n",
       "\n",
       "    .dataframe tbody tr th {\n",
       "        vertical-align: top;\n",
       "    }\n",
       "\n",
       "    .dataframe thead th {\n",
       "        text-align: right;\n",
       "    }\n",
       "</style>\n",
       "<table border=\"1\" class=\"dataframe\">\n",
       "  <thead>\n",
       "    <tr style=\"text-align: right;\">\n",
       "      <th></th>\n",
       "      <th>title_keywords</th>\n",
       "      <th>description_keywords</th>\n",
       "    </tr>\n",
       "  </thead>\n",
       "  <tbody>\n",
       "    <tr>\n",
       "      <th>111971</th>\n",
       "      <td>motorcycle woman boot leopard print stitch wom...</td>\n",
       "      <td>shoe woman zandalias para mujer moda bohemian ...</td>\n",
       "    </tr>\n",
       "    <tr>\n",
       "      <th>112565</th>\n",
       "      <td>fashion woman shoe slip leisure sneaker shoe l...</td>\n",
       "      <td>platform shoe shoe summer shoe slip shoe beach...</td>\n",
       "    </tr>\n",
       "    <tr>\n",
       "      <th>138565</th>\n",
       "      <td>man sleeve shirt</td>\n",
       "      <td>cotton button closure machine sleeve button sh...</td>\n",
       "    </tr>\n",
       "    <tr>\n",
       "      <th>116965</th>\n",
       "      <td>woman snow boot winter ankle boot fur bootie f...</td>\n",
       "      <td>winter boot boot style snow boot combination m...</td>\n",
       "    </tr>\n",
       "    <tr>\n",
       "      <th>164141</th>\n",
       "      <td>disney men christmas sweater</td>\n",
       "      <td>fiber closure machine wash license feature pum...</td>\n",
       "    </tr>\n",
       "    <tr>\n",
       "      <th>...</th>\n",
       "      <td>...</td>\n",
       "      <td>...</td>\n",
       "    </tr>\n",
       "    <tr>\n",
       "      <th>143168</th>\n",
       "      <td>nautica man sleeve deck polo shirt</td>\n",
       "      <td>cotton polyester button closure machine sleeve...</td>\n",
       "    </tr>\n",
       "    <tr>\n",
       "      <th>454</th>\n",
       "      <td>sunglass metal frame shade woman men protection</td>\n",
       "      <td>sunglass shape metal frame frame lens coating ...</td>\n",
       "    </tr>\n",
       "    <tr>\n",
       "      <th>121644</th>\n",
       "      <td>woman ankle strap stiletto toe sandal heel</td>\n",
       "      <td>rubber fashion design gold stiletto heel featu...</td>\n",
       "    </tr>\n",
       "    <tr>\n",
       "      <th>138451</th>\n",
       "      <td>man fit trouser</td>\n",
       "      <td>polyester viscose spandex zipper closure machi...</td>\n",
       "    </tr>\n",
       "    <tr>\n",
       "      <th>240793</th>\n",
       "      <td>woman fashion woman fashion printing neck slee...</td>\n",
       "      <td>product description size bust sleeve length si...</td>\n",
       "    </tr>\n",
       "  </tbody>\n",
       "</table>\n",
       "<p>48585 rows × 2 columns</p>\n",
       "</div>"
      ],
      "text/plain": [
       "                                           title_keywords  \\\n",
       "111971  motorcycle woman boot leopard print stitch wom...   \n",
       "112565  fashion woman shoe slip leisure sneaker shoe l...   \n",
       "138565                                   man sleeve shirt   \n",
       "116965  woman snow boot winter ankle boot fur bootie f...   \n",
       "164141                       disney men christmas sweater   \n",
       "...                                                   ...   \n",
       "143168                 nautica man sleeve deck polo shirt   \n",
       "454       sunglass metal frame shade woman men protection   \n",
       "121644         woman ankle strap stiletto toe sandal heel   \n",
       "138451                                    man fit trouser   \n",
       "240793  woman fashion woman fashion printing neck slee...   \n",
       "\n",
       "                                     description_keywords  \n",
       "111971  shoe woman zandalias para mujer moda bohemian ...  \n",
       "112565  platform shoe shoe summer shoe slip shoe beach...  \n",
       "138565  cotton button closure machine sleeve button sh...  \n",
       "116965  winter boot boot style snow boot combination m...  \n",
       "164141  fiber closure machine wash license feature pum...  \n",
       "...                                                   ...  \n",
       "143168  cotton polyester button closure machine sleeve...  \n",
       "454     sunglass shape metal frame frame lens coating ...  \n",
       "121644  rubber fashion design gold stiletto heel featu...  \n",
       "138451  polyester viscose spandex zipper closure machi...  \n",
       "240793  product description size bust sleeve length si...  \n",
       "\n",
       "[48585 rows x 2 columns]"
      ]
     },
     "execution_count": 19,
     "metadata": {},
     "output_type": "execute_result"
    }
   ],
   "source": [
    "#Implementing the same process on the test data\n",
    "X_test = X_test.drop(y_test[y_test.isin(cat_less_640)].index, axis = 0)\n",
    "X_test"
   ]
  },
  {
   "cell_type": "code",
   "execution_count": 20,
   "metadata": {},
   "outputs": [
    {
     "data": {
      "text/plain": [
       "111971    153\n",
       "112565    153\n",
       "138565    183\n",
       "116965    159\n",
       "164141    207\n",
       "         ... \n",
       "143168    187\n",
       "454        44\n",
       "121644    164\n",
       "138451    182\n",
       "240793    293\n",
       "Name: category_id, Length: 48585, dtype: int64"
      ]
     },
     "execution_count": 20,
     "metadata": {},
     "output_type": "execute_result"
    }
   ],
   "source": [
    "y_test = y_test.drop(y_test[y_test.isin(cat_less_640)].index)\n",
    "y_test"
   ]
  },
  {
   "cell_type": "code",
   "execution_count": 21,
   "metadata": {},
   "outputs": [
    {
     "data": {
      "image/png": "[encoded data removed]",
      "text/plain": [
       "<Figure size 720x432 with 1 Axes>"
      ]
     },
     "metadata": {
      "needs_background": "light"
     },
     "output_type": "display_data"
    }
   ],
   "source": [
    "plt.figure(figsize = (10,6))\n",
    "plt.hist(y_train.value_counts().values, bins = 30)\n",
    "plt.title('Distribution of Category ids after dropping categories with < 640 products (training data)')\n",
    "plt.xlabel('Count of records corresponding to Category ids')\n",
    "plt.ylabel('Frequency')\n",
    "plt.show()"
   ]
  },
  {
   "cell_type": "markdown",
   "metadata": {},
   "source": [
    "The distribution looks better than what we had initially. We dropped 8030 records from training dataset because of the condition of more than 640 products for a category id."
   ]
  },
  {
   "cell_type": "markdown",
   "metadata": {},
   "source": [
    "### Modeling"
   ]
  },
  {
   "cell_type": "code",
   "execution_count": 22,
   "metadata": {},
   "outputs": [],
   "source": [
    "X_train['merged_keywords'] = X_train['title_keywords'] + ' ' + X_train['description_keywords']\n",
    "X_test['merged_keywords'] = X_test['title_keywords'] + ' ' + X_test['description_keywords']"
   ]
  },
  {
   "cell_type": "code",
   "execution_count": 23,
   "metadata": {},
   "outputs": [],
   "source": [
    "vectorizer = TfidfVectorizer(use_idf=True, smooth_idf=True, norm='l2', max_features = y_train.nunique()*10)\n",
    "vectorizer.fit(X_train['merged_keywords'].values.astype('U'))\n",
    "X1 = vectorizer.transform(X_train['merged_keywords'].values.astype('U'))\n",
    "X1_test = vectorizer.transform(X_test['merged_keywords'].values.astype('U'))"
   ]
  },
  {
   "cell_type": "code",
   "execution_count": 24,
   "metadata": {},
   "outputs": [],
   "source": [
    "##LDA for dimensionality reduction doesn't help with the reduction in overfitting\n",
    "# train_dense = X1.astype(np.float32).todense()\n",
    "# test_dense = X1_test.astype(np.float32).todense()\n",
    "# lda = LinearDiscriminantAnalysis()\n",
    "# lda.fit(train_dense, y_train)\n",
    "# Xtrain_transformed = lda.transform(train_dense)\n",
    "# Xtest_transformed = lda.transform(test_dense)"
   ]
  },
  {
   "cell_type": "code",
   "execution_count": 25,
   "metadata": {
    "scrolled": false
   },
   "outputs": [
    {
     "name": "stdout",
     "output_type": "stream",
     "text": [
      "F1 score on test data from RF model:  0.6686631676443346\n",
      "F1 score on train data from RF model:  0.8737591280317416\n"
     ]
    }
   ],
   "source": [
    "#Random forest with class weighting in bootstrap samples this is useful for imbalanced data problems\n",
    "model = RandomForestClassifier(n_estimators = 100, random_state = 0, class_weight='balanced_subsample', max_samples = int(0.25*X1.shape[0]))\n",
    "model.fit(X1, y_train)\n",
    "predictions = model.predict(X1_test)\n",
    "print('F1 score on test data from RF model: ', f1_score(y_test, predictions, average = 'micro'))\n",
    "print('F1 score on train data from RF model: ', f1_score(y_train, model.predict(X1), average = 'micro'))"
   ]
  },
  {
   "cell_type": "code",
   "execution_count": 26,
   "metadata": {},
   "outputs": [
    {
     "name": "stdout",
     "output_type": "stream",
     "text": [
      "F1 score on test data from RF model:  0.6656375424513739\n",
      "F1 score on train data from RF model:  0.807455781472733\n"
     ]
    }
   ],
   "source": [
    "#Random forest with class weighting in bootstrap samples this is useful for imbalanced data problems\n",
    "model = RandomForestClassifier(n_estimators = y_train.nunique(), random_state = 0, class_weight='balanced_subsample', max_samples = int(0.1*X1.shape[0]))\n",
    "model.fit(X1, y_train)\n",
    "predictions = model.predict(X1_test)\n",
    "print('F1 score on test data from RF model: ', f1_score(y_test, predictions, average = 'micro'))\n",
    "print('F1 score on train data from RF model: ', f1_score(y_train, model.predict(X1), average = 'micro'))"
   ]
  },
  {
   "cell_type": "code",
   "execution_count": 27,
   "metadata": {
    "scrolled": false
   },
   "outputs": [
    {
     "name": "stdout",
     "output_type": "stream",
     "text": [
      "F1 score on test data from RF model with undersampling:  0.6689307399403108\n",
      "F1 score on train data from RF model with undersampling:  0.8702391428527317\n"
     ]
    }
   ],
   "source": [
    "#performing random undersampling of the majority class in each bootstrap sample\n",
    "model1 = BalancedRandomForestClassifier(n_estimators = 100, random_state = 0, max_samples = int(0.25*X1.shape[0]))\n",
    "model1.fit(X1, y_train)\n",
    "predictions1 = model1.predict(X1_test)\n",
    "print('F1 score on test data from RF model with undersampling: ', f1_score(y_test, predictions1, average = 'micro'))\n",
    "print('F1 score on train data from RF model with undersampling: ', f1_score(y_train, model1.predict(X1), average = 'micro'))"
   ]
  },
  {
   "cell_type": "code",
   "execution_count": 28,
   "metadata": {},
   "outputs": [
    {
     "name": "stdout",
     "output_type": "stream",
     "text": [
      "F1 score on test data from RF model with undersampling:  0.6650200679221983\n",
      "F1 score on train data from RF model with undersampling:  0.8063544995600018\n"
     ]
    }
   ],
   "source": [
    "#performing random undersampling of the majority class in each bootstrap sample\n",
    "model1 = BalancedRandomForestClassifier(n_estimators = y_train.nunique(), random_state = 0, max_samples = int(0.1*X1.shape[0]))\n",
    "model1.fit(X1, y_train)\n",
    "predictions1 = model1.predict(X1_test)\n",
    "print('F1 score on test data from RF model with undersampling: ', f1_score(y_test, predictions1, average = 'micro'))\n",
    "print('F1 score on train data from RF model with undersampling: ', f1_score(y_train, model1.predict(X1), average = 'micro'))"
   ]
  }
 ],
 "metadata": {
  "kernelspec": {
   "display_name": "Python 3",
   "language": "python",
   "name": "python3"
  },
  "language_info": {
   "codemirror_mode": {
    "name": "ipython",
    "version": 3
   },
   "file_extension": ".py",
   "mimetype": "text/x-python",
   "name": "python",
   "nbconvert_exporter": "python",
   "pygments_lexer": "ipython3",
   "version": "3.8.5"
  }
 },
 "nbformat": 4,
 "nbformat_minor": 4
}
